{
 "cells": [
  {
   "cell_type": "code",
   "execution_count": null,
   "metadata": {},
   "outputs": [],
   "source": [
    "import pyomo.environ as pe\n",
    "import pyomo.opt as po"
   ]
  },
  {
   "cell_type": "code",
   "execution_count": null,
   "metadata": {},
   "outputs": [],
   "source": [
    "p = 7\n",
    "c = 5\n",
    "\n",
    "d = {0: 40, 1: 50, 2: 60, 3: 70}\n",
    "probability = {0: 0.05, 1: 0.20, 2: 0.40, 3: 0.35}"
   ]
  },
  {
   "cell_type": "markdown",
   "metadata": {},
   "source": [
    "$$\n",
    "\\begin{alignat*}{2}\n",
    "f(q) &= \\mathbb{E}[p \\min\\{q, D\\}] - cq \\\\\n",
    "     &= p \\sum_{q=0}^\\infty\n",
    "\\end{alignat*}\n",
    "$$"
   ]
  },
  {
   "cell_type": "code",
   "execution_count": null,
   "metadata": {},
   "outputs": [],
   "source": [
    "solver = po.SolverFactory('gurobi')"
   ]
  },
  {
   "cell_type": "code",
   "execution_count": null,
   "metadata": {},
   "outputs": [],
   "source": [
    "root = pe.ConcreteModel()\n",
    "\n",
    "root.Omega = pe.Set(initialize=d.keys())\n",
    "\n",
    "root.p = pe.Param(initialize=p)\n",
    "root.c = pe.Param(initialize=c)\n",
    "\n",
    "root.x = pe.Var(domain=pe.NonNegativeIntegers)\n",
    "\n",
    "def blk_child(block, omega):\n",
    "    parent = block.model()\n",
    "    block.d = pe.Param(initialize=d[omega])\n",
    "    block.probability = pe.Param(initialize=probability[omega])\n",
    "    block.y = pe.Var(domain=pe.NonNegativeIntegers, bounds=(None, block.d))\n",
    "    block.con_y_ge_x = pe.Constraint(expr=block.y <= root.x)\n",
    "    block.revenue = pe.Expression(expr=root.p * block.y)\n",
    "\n",
    "root.blk_child = pe.Block(root.Omega, rule=blk_child)\n",
    "\n",
    "def obj(model):\n",
    "    return sum(child.probability * child.revenue\n",
    "               for omega, child in model.blk_child.items()) - model.c * model.x\n",
    "\n",
    "root.obj = pe.Objective(sense=pe.maximize, rule=obj)\n",
    "\n",
    "solver.solve(root)\n",
    "print(pe.value(root.x))"
   ]
  },
  {
   "cell_type": "code",
   "execution_count": null,
   "metadata": {},
   "outputs": [],
   "source": [
    "for omega in root.Omega:\n",
    "    print(pe.value(root.blk_child[omega].y))"
   ]
  }
 ],
 "metadata": {
  "kernelspec": {
   "display_name": "Python 3",
   "language": "python",
   "name": "python3"
  },
  "language_info": {
   "codemirror_mode": {
    "name": "ipython",
    "version": 3
   },
   "file_extension": ".py",
   "mimetype": "text/x-python",
   "name": "python",
   "nbconvert_exporter": "python",
   "pygments_lexer": "ipython3",
   "version": "3.7.4"
  }
 },
 "nbformat": 4,
 "nbformat_minor": 4
}
