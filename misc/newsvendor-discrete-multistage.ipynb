{
 "cells": [
  {
   "cell_type": "code",
   "execution_count": null,
   "metadata": {},
   "outputs": [],
   "source": [
    "import pyomo.environ as pe\n",
    "import pyomo.opt as po"
   ]
  },
  {
   "cell_type": "code",
   "execution_count": null,
   "metadata": {},
   "outputs": [],
   "source": [
    "num_days = 5\n",
    "levels = {'lo', 'md', 'hi'}\n",
    "cost = 5\n",
    "revenue = {1: 8, 2: 7, 3: 6, 4: 5, 5: 4}\n",
    "probability = {'lo': 0.25, 'md': 0.50, 'hi': 0.25}\n",
    "demand = {'lo':  8, 'md': 10, 'hi': 12}"
   ]
  },
  {
   "cell_type": "code",
   "execution_count": null,
   "metadata": {},
   "outputs": [],
   "source": [
    "# num_days = 2\n",
    "# levels = {'lo', 'hi'}\n",
    "# cost = 5\n",
    "# revenue = {1: 7, 2: 5}\n",
    "# probability = {'lo': 0.25, 'hi': 0.75}\n",
    "# demand = {'lo': 5, 'hi': 10}"
   ]
  },
  {
   "cell_type": "code",
   "execution_count": null,
   "metadata": {},
   "outputs": [],
   "source": [
    "root = pe.ConcreteModel()\n",
    "root.levels = pe.Set(initialize=levels)\n",
    "root.cost = pe.Param(initialize=cost)\n",
    "root.day = 0\n",
    "root.probability = 1\n",
    "root.x = pe.Var(bounds=(0, demand['hi'] * 5))\n",
    "\n",
    "def blk_child(block, level):\n",
    "    parent = block.parent_block()\n",
    "    block.levels = pe.Set(initialize=levels)\n",
    "    block.day = parent.day + 1\n",
    "    block.probability = parent.probability * probability[level]\n",
    "    block.demand = demand[level]\n",
    "    block.revenue = revenue[block.day]\n",
    "    block.y = pe.Var(bounds=(0, block.demand))\n",
    "    block.x = pe.Var()\n",
    "    if block.day < num_days:\n",
    "        block.child = pe.Block(block.levels, rule=blk_child)\n",
    "    block.con_y_le_x = pe.Constraint(expr=block.y <= parent.x)\n",
    "    block.con_x = pe.Constraint(expr=block.x == parent.x - block.y)\n",
    "\n",
    "root.child = pe.Block(root.levels, rule=blk_child)\n",
    "\n",
    "def obj(model):\n",
    "    expr = 0\n",
    "    for block_obj in model.component_objects(pe.Block, active=True):\n",
    "        for _, block in block_obj.items():\n",
    "            expr += block.probability * block.revenue * block.y\n",
    "    expr -= model.cost * model.x\n",
    "    return expr\n",
    "\n",
    "root.obj = pe.Objective(sense=pe.maximize, rule=obj)"
   ]
  },
  {
   "cell_type": "code",
   "execution_count": null,
   "metadata": {},
   "outputs": [],
   "source": [
    "solver = po.SolverFactory('gurobi')\n",
    "solver.options['mipgap'] = 0.0\n",
    "result = solver.solve(root)\n",
    "print(pe.value(root.obj))\n",
    "print(pe.value(root.x))"
   ]
  },
  {
   "cell_type": "code",
   "execution_count": null,
   "metadata": {},
   "outputs": [],
   "source": [
    "from collections import Counter\n",
    "from itertools import product\n",
    "from operator import mul\n",
    "import numpy as np\n",
    "from functools import reduce\n",
    "\n",
    "def dec_along_path(root, path):\n",
    "    sol = []\n",
    "    block = root\n",
    "    for level in path:\n",
    "        block = block.child[level]\n",
    "        sol.append(int(pe.value(block.y)))\n",
    "    return sol\n",
    "\n",
    "profit = 0\n",
    "for path in product(levels, repeat=num_days):\n",
    "    sol = np.array(dec_along_path(root, path))\n",
    "    p = reduce(mul, [probability[level] ** ct for level, ct in Counter(path).items()])\n",
    "    profit += p * np.array([*revenue.values()]) @ sol\n",
    "profit -= pe.value(root.x) * cost\n",
    "print(profit)"
   ]
  },
  {
   "cell_type": "code",
   "execution_count": null,
   "metadata": {},
   "outputs": [],
   "source": [
    "def expected_profit(x):\n",
    "    profit = 0\n",
    "    for path in product(levels, repeat=num_days):\n",
    "        x_copy = x\n",
    "        path_revenue = 0\n",
    "        path_probability = 1.0\n",
    "        for day, level in enumerate(path, start=1):\n",
    "            sold = min(x_copy, demand[level])\n",
    "            path_revenue += sold * revenue[day]\n",
    "            path_probability *= probability[level]\n",
    "            x_copy -= sold\n",
    "        profit += path_probability * path_revenue\n",
    "    profit -= cost * x\n",
    "    return profit"
   ]
  },
  {
   "cell_type": "code",
   "execution_count": null,
   "metadata": {},
   "outputs": [],
   "source": [
    "import matplotlib.pyplot as plt\n",
    "\n",
    "# x = 0\n",
    "# y = expected_profit(x)\n",
    "# while y >= 0:\n",
    "#     plt.plot(x, y, 'ro')\n",
    "#     x += 1\n",
    "#     y = expected_profit(x)\n",
    "# plt.show()\n",
    "\n",
    "for x in range(30, 40):\n",
    "    y = expected_profit(x)\n",
    "    plt.plot(x, y, 'ro')\n",
    "plt.show()"
   ]
  },
  {
   "cell_type": "code",
   "execution_count": null,
   "metadata": {},
   "outputs": [],
   "source": []
  }
 ],
 "metadata": {
  "kernelspec": {
   "display_name": "Python 3",
   "language": "python",
   "name": "python3"
  },
  "language_info": {
   "codemirror_mode": {
    "name": "ipython",
    "version": 3
   },
   "file_extension": ".py",
   "mimetype": "text/x-python",
   "name": "python",
   "nbconvert_exporter": "python",
   "pygments_lexer": "ipython3",
   "version": "3.7.4"
  }
 },
 "nbformat": 4,
 "nbformat_minor": 4
}
