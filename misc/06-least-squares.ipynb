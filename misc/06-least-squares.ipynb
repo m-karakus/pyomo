{
 "cells": [
  {
   "cell_type": "markdown",
   "metadata": {},
   "source": [
    "# Least Squares: Unconstrained Convex Optimization\n",
    "\n",
    "We want to find an approximate to solution to the overdetermined system $ Ax = b $. To that end, we solve $ min\\{\\lVert Ax - b \\rVert_2^2\\} $."
   ]
  },
  {
   "cell_type": "code",
   "execution_count": 1,
   "metadata": {},
   "outputs": [],
   "source": [
    "import numpy as np\n",
    "import pyomo.environ as pe\n",
    "import pyomo.opt as po"
   ]
  },
  {
   "cell_type": "code",
   "execution_count": 61,
   "metadata": {},
   "outputs": [],
   "source": [
    "num_rows = 5\n",
    "num_cols = 2\n",
    "\n",
    "A = np.random.normal(size=(num_rows, num_cols))\n",
    "b = np.random.normal(size=num_rows)"
   ]
  },
  {
   "cell_type": "code",
   "execution_count": 62,
   "metadata": {},
   "outputs": [],
   "source": [
    "instance = pe.ConcreteModel()"
   ]
  },
  {
   "cell_type": "code",
   "execution_count": 63,
   "metadata": {},
   "outputs": [],
   "source": [
    "instance.I = pe.RangeSet(0, num_rows - 1)\n",
    "instance.J = pe.RangeSet(0, num_cols - 1)"
   ]
  },
  {
   "cell_type": "code",
   "execution_count": 64,
   "metadata": {},
   "outputs": [],
   "source": [
    "instance.x = pe.Var(instance.J, domain=pe.Reals)\n",
    "x_np = np.array([instance.x[j] for j in instance.J])"
   ]
  },
  {
   "cell_type": "code",
   "execution_count": 65,
   "metadata": {},
   "outputs": [],
   "source": [
    "obj_expr = (A @ x_np - b).T @ (A @ x_np - b)\n",
    "instance.l2_norm = pe.Objective(sense=pe.minimize, expr=obj_expr)"
   ]
  },
  {
   "cell_type": "code",
   "execution_count": 66,
   "metadata": {},
   "outputs": [],
   "source": [
    "# Convex Over and Under ENvelopes for Nonlinear Estimation\n",
    "solver = po.SolverFactory('couenne')\n",
    "result = solver.solve(instance)"
   ]
  },
  {
   "cell_type": "code",
   "execution_count": 67,
   "metadata": {},
   "outputs": [
    {
     "name": "stdout",
     "output_type": "stream",
     "text": [
      "0 -0.23602076279660975\n",
      "0 -0.23602076279660975\n",
      "1 -0.5041515732017873\n",
      "1 -0.5041515732017873\n"
     ]
    }
   ],
   "source": [
    "for j in instance.J:\n",
    "    print(j, pe.value(instance.x[j]))\n",
    "    print(j, instance.x[j].value)"
   ]
  },
  {
   "cell_type": "code",
   "execution_count": 68,
   "metadata": {},
   "outputs": [
    {
     "name": "stdout",
     "output_type": "stream",
     "text": [
      "WARNING: DEPRECATED: The .value property getter on SimpleObjective is\n",
      "    deprecated. Use the .expr property getter instead\n",
      "(-0.5675930296916353*x[0] + 0.12275846692066036*x[1] - 0.40431825580682396)*(-0.5675930296916353*x[0] + 0.12275846692066036*x[1] - 0.40431825580682396) + (0.7442226791919985*x[0] - 0.37125738161519556*x[1] + 0.42905696065373133)*(0.7442226791919985*x[0] - 0.37125738161519556*x[1] + 0.42905696065373133) + (0.9988591317876421*x[0] + 0.5957619578947133*x[1] + 0.24046951187078686)*(0.9988591317876421*x[0] + 0.5957619578947133*x[1] + 0.24046951187078686) + (-0.44169583202984886*x[0] + 0.7824112433945798*x[1] + 0.7746202040923018)*(-0.44169583202984886*x[0] + 0.7824112433945798*x[1] + 0.7746202040923018) + (-0.43667376472252845*x[0] + 0.0890720396821915*x[1] - 0.04166663389300321)*(-0.43667376472252845*x[0] + 0.0890720396821915*x[1] - 0.04166663389300321)\n"
     ]
    }
   ],
   "source": [
    "print(instance.l2_norm.value)"
   ]
  },
  {
   "cell_type": "code",
   "execution_count": 69,
   "metadata": {},
   "outputs": [
    {
     "name": "stdout",
     "output_type": "stream",
     "text": [
      "(-0.5675930296916353*x[0] + 0.12275846692066036*x[1] - 0.40431825580682396)*(-0.5675930296916353*x[0] + 0.12275846692066036*x[1] - 0.40431825580682396) + (0.7442226791919985*x[0] - 0.37125738161519556*x[1] + 0.42905696065373133)*(0.7442226791919985*x[0] - 0.37125738161519556*x[1] + 0.42905696065373133) + (0.9988591317876421*x[0] + 0.5957619578947133*x[1] + 0.24046951187078686)*(0.9988591317876421*x[0] + 0.5957619578947133*x[1] + 0.24046951187078686) + (-0.44169583202984886*x[0] + 0.7824112433945798*x[1] + 0.7746202040923018)*(-0.44169583202984886*x[0] + 0.7824112433945798*x[1] + 0.7746202040923018) + (-0.43667376472252845*x[0] + 0.0890720396821915*x[1] - 0.04166663389300321)*(-0.43667376472252845*x[0] + 0.0890720396821915*x[1] - 0.04166663389300321)\n"
     ]
    }
   ],
   "source": [
    "print(instance.l2_norm.expr)"
   ]
  },
  {
   "cell_type": "code",
   "execution_count": 60,
   "metadata": {},
   "outputs": [
    {
     "name": "stdout",
     "output_type": "stream",
     "text": [
      "1.1694283600174228e-25\n",
      "1.1694283600174228e-25\n"
     ]
    }
   ],
   "source": [
    "print(pe.value(instance.l2_norm))\n",
    "print(instance.l2_norm())"
   ]
  },
  {
   "cell_type": "code",
   "execution_count": 31,
   "metadata": {},
   "outputs": [
    {
     "data": {
      "text/plain": [
       "11.749414852541559"
      ]
     },
     "execution_count": 31,
     "metadata": {},
     "output_type": "execute_result"
    }
   ],
   "source": [
    "x_np_val = np.array([pe.value(val) for val in x_np])\n",
    "(A @ x_np_val - b).T @ (A @ x_np_val - b)"
   ]
  }
 ],
 "metadata": {
  "kernelspec": {
   "display_name": "Python 3",
   "language": "python",
   "name": "python3"
  },
  "language_info": {
   "codemirror_mode": {
    "name": "ipython",
    "version": 3
   },
   "file_extension": ".py",
   "mimetype": "text/x-python",
   "name": "python",
   "nbconvert_exporter": "python",
   "pygments_lexer": "ipython3",
   "version": "3.7.4"
  }
 },
 "nbformat": 4,
 "nbformat_minor": 4
}
