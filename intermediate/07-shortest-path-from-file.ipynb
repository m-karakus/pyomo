{
 "cells": [
  {
   "cell_type": "code",
   "execution_count": null,
   "metadata": {},
   "outputs": [],
   "source": [
    "import os\n",
    "from collections import defaultdict\n",
    "\n",
    "import matplotlib.pyplot as plt\n",
    "import networkx as nx\n",
    "import pandas as pd\n",
    "import pyomo.environ as pe\n",
    "import pyomo.opt as po"
   ]
  },
  {
   "cell_type": "code",
   "execution_count": null,
   "metadata": {},
   "outputs": [],
   "source": [
    "nodes_filename = os.path.join('data', 'nodes.txt')\n",
    "edges_filename = os.path.join('data', 'edges.txt')\n",
    "distance_filename = os.path.join('data', 'distance.csv')\n",
    "pos_filename = os.path.join('data', 'pos.csv')"
   ]
  },
  {
   "cell_type": "code",
   "execution_count": null,
   "metadata": {},
   "outputs": [],
   "source": [
    "nodes = []\n",
    "with open(nodes_filename) as fh:\n",
    "    for line in fh:\n",
    "        nodes.append(int(line.strip()))\n",
    "nodes"
   ]
  },
  {
   "cell_type": "code",
   "execution_count": null,
   "metadata": {},
   "outputs": [],
   "source": [
    "edges = []\n",
    "with open(edges_filename) as fh:\n",
    "    for line in fh:\n",
    "        edge = tuple(int(i) for i in line.strip().split(','))\n",
    "        edges.append(edge)\n",
    "edges"
   ]
  },
  {
   "cell_type": "code",
   "execution_count": null,
   "metadata": {},
   "outputs": [],
   "source": [
    "df_distance = pd.read_csv(distance_filename, index_col=[0,1], header=0)\n",
    "display(df_distance)\n",
    "distance = df_distance['distance'].to_dict()\n",
    "display(distance)"
   ]
  },
  {
   "cell_type": "code",
   "execution_count": null,
   "metadata": {},
   "outputs": [],
   "source": [
    "df_pos = pd.read_csv(pos_filename, index_col=[0], header=0)\n",
    "display(df_pos)\n",
    "pos = {idx: tuple(v) for idx, v in df_pos.iterrows()}\n",
    "display(pos)"
   ]
  },
  {
   "cell_type": "code",
   "execution_count": null,
   "metadata": {},
   "outputs": [],
   "source": [
    "graph = nx.DiGraph()\n",
    "graph.add_nodes_from(list(nodes))\n",
    "graph.add_edges_from(list(edges))"
   ]
  },
  {
   "cell_type": "code",
   "execution_count": null,
   "metadata": {},
   "outputs": [],
   "source": [
    "fig, ax = plt.subplots(figsize=(12, 12))\n",
    "nx.draw_networkx_nodes(graph, pos=pos, ax=ax, node_color='lightgray',\n",
    "                       edgecolors='black', node_size=2000)\n",
    "nx.draw_networkx_labels(graph, pos=pos, ax=ax, labels=dict(zip(nodes, nodes)),\n",
    "                        font_size=20)\n",
    "nx.draw_networkx_edges(graph, pos=pos, ax=ax, node_size=2000, arrowsize=25)\n",
    "nx.draw_networkx_edge_labels(graph, pos=pos, ax=ax, edge_labels=distance,\n",
    "                             font_size=16, rotate=False)\n",
    "plt.show()"
   ]
  },
  {
   "cell_type": "code",
   "execution_count": null,
   "metadata": {},
   "outputs": [],
   "source": [
    "delta_neg = defaultdict(set)\n",
    "delta_pos = defaultdict(set)\n",
    "for (i, j) in edges:\n",
    "    delta_neg[i].add(j)\n",
    "    delta_pos[j].add(i)"
   ]
  },
  {
   "cell_type": "code",
   "execution_count": null,
   "metadata": {},
   "outputs": [],
   "source": [
    "instance = pe.ConcreteModel()"
   ]
  },
  {
   "cell_type": "code",
   "execution_count": null,
   "metadata": {},
   "outputs": [],
   "source": [
    "instance.nodes = pe.Set(initialize=nodes)\n",
    "instance.s = 0\n",
    "instance.t = 9\n",
    "instance.edges = pe.Set(within=instance.nodes*instance.nodes, initialize=edges)"
   ]
  },
  {
   "cell_type": "code",
   "execution_count": null,
   "metadata": {},
   "outputs": [],
   "source": [
    "instance.distance = pe.Param(instance.edges, initialize=distance)\n",
    "instance.delta_neg = pe.Param(instance.nodes, initialize=delta_neg, within=pe.Any, default=set())\n",
    "instance.delta_pos = pe.Param(instance.nodes, initialize=delta_pos, within=pe.Any, default=set())"
   ]
  },
  {
   "cell_type": "code",
   "execution_count": null,
   "metadata": {},
   "outputs": [],
   "source": [
    "instance.x = pe.Var(instance.edges, domain=pe.Reals, bounds=(0, 1))"
   ]
  },
  {
   "cell_type": "code",
   "execution_count": null,
   "metadata": {},
   "outputs": [],
   "source": [
    "def shortest_path(instance):\n",
    "    return sum(instance.distance[i, j] * instance.x[i, j]\n",
    "               for (i, j) in instance.edges)\n",
    "\n",
    "instance.shortest_path = pe.Objective(sense=pe.minimize, rule=shortest_path)"
   ]
  },
  {
   "cell_type": "code",
   "execution_count": null,
   "metadata": {},
   "outputs": [],
   "source": [
    "def flow_balance(instance, i):\n",
    "    flow_in = sum([instance.x[j, i] for j in instance.delta_pos[i]])\n",
    "    flow_out = sum([instance.x[i, j] for j in instance.delta_neg[i]])\n",
    "    if i == instance.s:\n",
    "        constraint = (flow_out == 1)\n",
    "    elif i == instance.t:\n",
    "        constraint = (flow_in == 1)\n",
    "    else:\n",
    "        constraint = (flow_in == flow_out)\n",
    "    return constraint\n",
    "\n",
    "instance.flow_balance = pe.Constraint(instance.nodes, rule=flow_balance)"
   ]
  },
  {
   "cell_type": "code",
   "execution_count": null,
   "metadata": {},
   "outputs": [],
   "source": [
    "solver = po.SolverFactory('glpk')\n",
    "result = solver.solve(instance)"
   ]
  },
  {
   "cell_type": "code",
   "execution_count": null,
   "metadata": {},
   "outputs": [],
   "source": [
    "i = int(instance.s)\n",
    "path_nodes = [i]\n",
    "path_edges = []\n",
    "stop = False\n",
    "while not stop:\n",
    "    for j in delta_neg[i]:\n",
    "        if instance.x[i, j].value == 1:\n",
    "            if j == int(instance.t):\n",
    "                stop = True\n",
    "            path_nodes.append(j)\n",
    "            path_edges.append((i, j))\n",
    "            i = j\n",
    "            break"
   ]
  },
  {
   "cell_type": "code",
   "execution_count": null,
   "metadata": {},
   "outputs": [],
   "source": [
    "node_colors = ['lightblue' if i in path_nodes else 'lightgray'\n",
    "               for i in graph.nodes()]\n",
    "edge_colors = ['blue' if (i, j) in path_edges else 'black'\n",
    "               for (i, j) in graph.edges()]\n",
    "edge_widths = [2 if (i, j) in path_edges else 1\n",
    "               for (i, j) in graph.edges()]"
   ]
  },
  {
   "cell_type": "code",
   "execution_count": null,
   "metadata": {},
   "outputs": [],
   "source": [
    "fig, ax = plt.subplots(figsize=(12, 12))\n",
    "\n",
    "nx.draw_networkx_nodes(graph, pos=pos, ax=ax, node_color=node_colors,\n",
    "                       edgecolors='black', node_size=2000)\n",
    "nx.draw_networkx_labels(graph, pos=pos, ax=ax, labels=dict(zip(nodes, nodes)),\n",
    "                        font_size=20)\n",
    "nx.draw_networkx_edges(graph, pos=pos, ax=ax, node_size=2000, arrowsize=25,\n",
    "                       edge_color=edge_colors, width=edge_widths)\n",
    "nx.draw_networkx_edge_labels(graph, pos=pos, ax=ax, edge_labels=distance,\n",
    "                             font_size=16, rotate=False)\n",
    "nx.draw_networkx_edges\n",
    "plt.show()"
   ]
  }
 ],
 "metadata": {
  "kernelspec": {
   "display_name": "Python 3",
   "language": "python",
   "name": "python3"
  },
  "language_info": {
   "codemirror_mode": {
    "name": "ipython",
    "version": 3
   },
   "file_extension": ".py",
   "mimetype": "text/x-python",
   "name": "python",
   "nbconvert_exporter": "python",
   "pygments_lexer": "ipython3",
   "version": "3.8.10"
  }
 },
 "nbformat": 4,
 "nbformat_minor": 4
}
