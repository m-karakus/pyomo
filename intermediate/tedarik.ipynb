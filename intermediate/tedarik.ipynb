{
 "cells": [
  {
   "cell_type": "code",
   "execution_count": 7,
   "metadata": {},
   "outputs": [],
   "source": [
    "import json\n",
    "import os\n",
    "from pprint import pprint\n",
    "\n",
    "import pyomo.environ as pe\n",
    "import pyomo.opt as po\n",
    "import yaml"
   ]
  },
  {
   "cell_type": "code",
   "execution_count": 8,
   "metadata": {},
   "outputs": [],
   "source": [
    "cfl_blk_demand_filename = os.path.join('data', 'cfl_blk_by_demand.json')"
   ]
  },
  {
   "cell_type": "markdown",
   "metadata": {},
   "source": [
    "# Setup Solver"
   ]
  },
  {
   "cell_type": "code",
   "execution_count": 9,
   "metadata": {},
   "outputs": [],
   "source": [
    "solver = po.SolverFactory('glpk')"
   ]
  },
  {
   "cell_type": "markdown",
   "metadata": {},
   "source": [
    "# Capacitated Facility Location\n",
    "To demonstrate blocks, let's setup and solve an instance of the CFL model.\n",
    "\n",
    "Sets:\n",
    "- $I$: supply sites, indexed by $i$\n",
    "- $J$: demand sites, indexed by $j$\n",
    "\n",
    "Parameters:\n",
    "- $s_i$: supply capacity of supply site $i$\n",
    "- $d_j$: demand required by demand site $j$\n",
    "- $f_i$: fixed cost to open supply site $i$\n",
    "- $c_{ij}$: variable cost to transport from supply site $i$ to demand site $j$\n",
    "\n",
    "Variables:\n",
    "- $x_{ij}$ - quantity of product to ship from supply site $i$ to demand site $j$\n",
    "- $y_i$ - 0/1 decision variable indicating that supply site $i$ is producing\n",
    "\n",
    "Model:\n",
    "$$\n",
    "\\begin{alignat*}{3}\n",
    "\\text{minimize  }  & \\sum_{i \\in I} f_i y_i + \\sum_{i \\in I} \\sum_{j \\in J} c_{ij} x_{ij} \\\\\n",
    "\\text{subject to  }\n",
    "& \\sum_{i \\in I} x_{ij} \\ge d_j && \\forall j \\in J \\\\\n",
    "& \\sum_{j \\in J} x_{ij} \\le s_i y_i && \\forall i \\in I \\\\\n",
    "& x \\in \\mathbb{R}_+^{|I| \\times |J|} && \\\\\n",
    "& y \\in \\{0, 1\\}^{|I|} && \\\\\n",
    "\\end{alignat*}\n",
    "$$"
   ]
  },
  {
   "cell_type": "markdown",
   "metadata": {},
   "source": [
    "# Implementation with Blocks Indexed by Demand Sites"
   ]
  },
  {
   "cell_type": "code",
   "execution_count": 10,
   "metadata": {},
   "outputs": [
    {
     "name": "stdout",
     "output_type": "stream",
     "text": [
      "{'demand_data': {'a': {'demand': 80, 'variable_cost': {'1': 4, '2': 6, '3': 9}},\n",
      "                 'b': {'demand': 270,\n",
      "                       'variable_cost': {'1': 5, '2': 4, '3': 7}},\n",
      "                 'c': {'demand': 250,\n",
      "                       'variable_cost': {'1': 6, '2': 3, '3': 4}},\n",
      "                 'd': {'demand': 160,\n",
      "                       'variable_cost': {'1': 8, '2': 5, '3': 3}},\n",
      "                 'e': {'demand': 180,\n",
      "                       'variable_cost': {'1': 10, '2': 8, '3': 4}}},\n",
      " 'demand_sites': ['a', 'b', 'c', 'd', 'e'],\n",
      " 'fixed_cost': {'1': 1000, '2': 1000, '3': 1000},\n",
      " 'supply': {'1': 500, '2': 500, '3': 500},\n",
      " 'supply_sites': ['1', '2', '3']}\n"
     ]
    }
   ],
   "source": [
    "with open(cfl_blk_demand_filename) as fh:\n",
    "    data = json.load(fh)\n",
    "pprint(data)"
   ]
  },
  {
   "cell_type": "code",
   "execution_count": 11,
   "metadata": {},
   "outputs": [],
   "source": [
    "model = pe.ConcreteModel(\"Blocks (by Demand Site)\")\n",
    "\n",
    "# sets\n",
    "model.I = pe.Set(initialize=data['supply_sites'])\n",
    "model.J = pe.Set(initialize=data['demand_sites'])\n",
    "\n",
    "# parameters (not indexed in J)\n",
    "model.s = pe.Param(model.I, initialize=data['supply'])\n",
    "model.f = pe.Param(model.I, initialize=data['fixed_cost'])\n",
    "\n",
    "# variables (not indexed in J)\n",
    "model.y = pe.Var(model.I, domain=pe.Binary)\n",
    "\n",
    "# blocks (indexed in J)\n",
    "def blk_demand(block, j):\n",
    "    blk_data = data['demand_data'][j]\n",
    "    I = block.model().I # borrow the set of supply sites from the overarching model\n",
    "    block.d = pe.Param(initialize=blk_data['demand'])\n",
    "    block.c = pe.Param(I, initialize=blk_data['variable_cost'])\n",
    "    block.x = pe.Var(I, domain=pe.NonNegativeReals)\n",
    "    block.con_satisfaction = pe.Constraint(expr=(sum(block.x[i] for i in I) >= block.d))\n",
    "    block.variable_cost = sum(block.c[i] * block.x[i] for i in I)\n",
    "model.blk_demand = pe.Block(model.J, rule=blk_demand)\n",
    "\n",
    "# constraints (not indexed in J)\n",
    "def con_transportation(model, i):\n",
    "    return sum(model.blk_demand[j].x[i] for j in model.J) <= model.s[i] * model.y[i]\n",
    "model.con_transportation = pe.Constraint(model.I, rule=con_transportation)\n",
    "\n",
    "# objective\n",
    "def obj_min_cost(model):\n",
    "    return sum(model.f[i] * model.y[i] for i in model.I)\\\n",
    "        + sum(model.blk_demand[j].variable_cost for j in model.J)\n",
    "model.obj_min_cost = pe.Objective(sense=pe.minimize, rule=obj_min_cost)"
   ]
  },
  {
   "cell_type": "code",
   "execution_count": 12,
   "metadata": {},
   "outputs": [
    {
     "name": "stdout",
     "output_type": "stream",
     "text": [
      "Model 'Blocks (by Demand Site)'\n",
      "\n",
      "  Variables:\n",
      "    y : Size=3, Index=I\n",
      "        Key : Lower : Value : Upper : Fixed : Stale : Domain\n",
      "          1 :     0 :   0.0 :     1 : False : False : Binary\n",
      "          2 :     0 :   1.0 :     1 : False : False : Binary\n",
      "          3 :     0 :   1.0 :     1 : False : False : Binary\n",
      "\n",
      "  Objectives:\n",
      "    obj_min_cost : Size=1, Index=None, Active=True\n",
      "        Key  : Active : Value\n",
      "        None :   True : 5610.0\n",
      "\n",
      "  Constraints:\n",
      "    con_transportation : Size=3\n",
      "        Key : Lower : Body  : Upper\n",
      "          1 :  None :   0.0 :   0.0\n",
      "          2 :  None :   0.0 :   0.0\n",
      "          3 :  None : -60.0 :   0.0\n",
      "\n",
      "  Blocks:\n",
      "    Block blk_demand[a]\n",
      "    \n",
      "      Variables:\n",
      "        x : Size=3, Index=I\n",
      "            Key : Lower : Value : Upper : Fixed : Stale : Domain\n",
      "              1 :     0 :   0.0 :  None : False : False : NonNegativeReals\n",
      "              2 :     0 :  80.0 :  None : False : False : NonNegativeReals\n",
      "              3 :     0 :   0.0 :  None : False : False : NonNegativeReals\n",
      "    \n",
      "      Objectives:\n",
      "        None\n",
      "    \n",
      "      Constraints:\n",
      "        con_satisfaction : Size=1\n",
      "            Key  : Lower : Body : Upper\n",
      "            None :  80.0 : 80.0 :  None\n",
      "    Block blk_demand[b]\n",
      "    \n",
      "      Variables:\n",
      "        x : Size=3, Index=I\n",
      "            Key : Lower : Value : Upper : Fixed : Stale : Domain\n",
      "              1 :     0 :   0.0 :  None : False : False : NonNegativeReals\n",
      "              2 :     0 : 270.0 :  None : False : False : NonNegativeReals\n",
      "              3 :     0 :   0.0 :  None : False : False : NonNegativeReals\n",
      "    \n",
      "      Objectives:\n",
      "        None\n",
      "    \n",
      "      Constraints:\n",
      "        con_satisfaction : Size=1\n",
      "            Key  : Lower : Body  : Upper\n",
      "            None : 270.0 : 270.0 :  None\n",
      "    Block blk_demand[c]\n",
      "    \n",
      "      Variables:\n",
      "        x : Size=3, Index=I\n",
      "            Key : Lower : Value : Upper : Fixed : Stale : Domain\n",
      "              1 :     0 :   0.0 :  None : False : False : NonNegativeReals\n",
      "              2 :     0 : 150.0 :  None : False : False : NonNegativeReals\n",
      "              3 :     0 : 100.0 :  None : False : False : NonNegativeReals\n",
      "    \n",
      "      Objectives:\n",
      "        None\n",
      "    \n",
      "      Constraints:\n",
      "        con_satisfaction : Size=1\n",
      "            Key  : Lower : Body  : Upper\n",
      "            None : 250.0 : 250.0 :  None\n",
      "    Block blk_demand[d]\n",
      "    \n",
      "      Variables:\n",
      "        x : Size=3, Index=I\n",
      "            Key : Lower : Value : Upper : Fixed : Stale : Domain\n",
      "              1 :     0 :   0.0 :  None : False : False : NonNegativeReals\n",
      "              2 :     0 :   0.0 :  None : False : False : NonNegativeReals\n",
      "              3 :     0 : 160.0 :  None : False : False : NonNegativeReals\n",
      "    \n",
      "      Objectives:\n",
      "        None\n",
      "    \n",
      "      Constraints:\n",
      "        con_satisfaction : Size=1\n",
      "            Key  : Lower : Body  : Upper\n",
      "            None : 160.0 : 160.0 :  None\n",
      "    Block blk_demand[e]\n",
      "    \n",
      "      Variables:\n",
      "        x : Size=3, Index=I\n",
      "            Key : Lower : Value : Upper : Fixed : Stale : Domain\n",
      "              1 :     0 :   0.0 :  None : False : False : NonNegativeReals\n",
      "              2 :     0 :   0.0 :  None : False : False : NonNegativeReals\n",
      "              3 :     0 : 180.0 :  None : False : False : NonNegativeReals\n",
      "    \n",
      "      Objectives:\n",
      "        None\n",
      "    \n",
      "      Constraints:\n",
      "        con_satisfaction : Size=1\n",
      "            Key  : Lower : Body  : Upper\n",
      "            None : 180.0 : 180.0 :  None\n"
     ]
    }
   ],
   "source": [
    "result = solver.solve(model)\n",
    "model.display()"
   ]
  },
  {
   "cell_type": "code",
   "execution_count": null,
   "metadata": {},
   "outputs": [],
   "source": []
  }
 ],
 "metadata": {
  "kernelspec": {
   "display_name": "Python 3.10.4 ('3104')",
   "language": "python",
   "name": "python3"
  },
  "language_info": {
   "codemirror_mode": {
    "name": "ipython",
    "version": 3
   },
   "file_extension": ".py",
   "mimetype": "text/x-python",
   "name": "python",
   "nbconvert_exporter": "python",
   "pygments_lexer": "ipython3",
   "version": "3.10.4"
  },
  "vscode": {
   "interpreter": {
    "hash": "2fccfef6de30eb59767b31244f817a0196d64b5e43793416edf849b4402a2f8d"
   }
  }
 },
 "nbformat": 4,
 "nbformat_minor": 4
}
