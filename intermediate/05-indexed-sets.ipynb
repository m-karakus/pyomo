{
 "cells": [
  {
   "cell_type": "code",
   "execution_count": null,
   "metadata": {},
   "outputs": [],
   "source": [
    "from collections import defaultdict\n",
    "\n",
    "import networkx as nx\n",
    "import pandas as pd\n",
    "import pyomo.environ as pe"
   ]
  },
  {
   "cell_type": "markdown",
   "metadata": {},
   "source": [
    "# What are indexed sets?"
   ]
  },
  {
   "cell_type": "code",
   "execution_count": null,
   "metadata": {},
   "outputs": [],
   "source": [
    "N = 20\n",
    "p = 0.20\n",
    "graph = nx.erdos_renyi_graph(N, p, seed=18)\n",
    "nx.draw_networkx(graph)"
   ]
  },
  {
   "cell_type": "code",
   "execution_count": null,
   "metadata": {},
   "outputs": [],
   "source": [
    "adjacent = defaultdict(set)\n",
    "for (i, j) in graph.edges():\n",
    "    adjacent[i].add(j)\n",
    "    adjacent[j].add(i)"
   ]
  },
  {
   "cell_type": "code",
   "execution_count": null,
   "metadata": {},
   "outputs": [],
   "source": [
    "for node in graph.nodes():\n",
    "    print(node, adjacent[node])"
   ]
  },
  {
   "cell_type": "markdown",
   "metadata": {},
   "source": [
    "# Why do we need them?\n",
    "\n",
    "Mostly for the sake of expeditiously building model implementations. In this example, the indexed sets are a \"cheap storage\" or \"sparse matrix\" version of the adjacency matrix. In very many applications, the full adjacency matrix is chock full of zeroes and not practical to store."
   ]
  },
  {
   "cell_type": "code",
   "execution_count": null,
   "metadata": {},
   "outputs": [],
   "source": [
    "df = pd.Series({(i, j): 1 for i in adjacent for j in adjacent[i]}).to_frame().reset_index()\n",
    "df.columns = ['i', 'j', 'adjacency']\n",
    "pd.crosstab(df['i'], df['j'])"
   ]
  },
  {
   "cell_type": "markdown",
   "metadata": {},
   "source": [
    "# Can they be implemented in Pyomo?"
   ]
  },
  {
   "cell_type": "code",
   "execution_count": null,
   "metadata": {},
   "outputs": [],
   "source": [
    "# we did this all before\n",
    "model = pe.ConcreteModel()\n",
    "nodes = set(graph.nodes())\n",
    "edges = set(graph.edges())\n",
    "model.nodes = pe.Set(initialize=nodes)\n",
    "model.edges = pe.Set(within=model.nodes*model.nodes, initialize=edges)\n",
    "\n",
    "# but this is new\n",
    "model.adjacent = pe.Param(model.nodes, within=pe.Any, default=set(), initialize=adjacent)"
   ]
  },
  {
   "cell_type": "code",
   "execution_count": null,
   "metadata": {},
   "outputs": [],
   "source": [
    "dict(model.adjacent)"
   ]
  },
  {
   "cell_type": "markdown",
   "metadata": {},
   "source": [
    "# A Non-Graph Example\n",
    "\n",
    "A power grid is comprised of many buses (i.e., nodes), and each bus is associated with some number of generator units. For example:"
   ]
  },
  {
   "cell_type": "code",
   "execution_count": null,
   "metadata": {},
   "outputs": [],
   "source": [
    "B = {'A', 'B', 'C', 'D', 'E', 'F'}\n",
    "G = {1, 2, 3, 4, 5, 6, 7}\n",
    "G_of_b = {\n",
    "    'A': set(),\n",
    "    'B': {1},\n",
    "    'C': {2, 3},\n",
    "    'D': {4},\n",
    "    'E': {5, 6},\n",
    "    'F': {7},\n",
    "}"
   ]
  },
  {
   "cell_type": "code",
   "execution_count": null,
   "metadata": {},
   "outputs": [],
   "source": [
    "dict(G_of_b)"
   ]
  },
  {
   "cell_type": "code",
   "execution_count": null,
   "metadata": {},
   "outputs": [],
   "source": [
    "df = pd.Series({(b, g): 1 for b in B for g in G_of_b[b]}).to_frame().reset_index()\n",
    "df.columns = ['b', 'g', 'adjacency']\n",
    "pd.crosstab(df['b'], df['g'])"
   ]
  },
  {
   "cell_type": "markdown",
   "metadata": {},
   "source": [
    "Suppose we want to build a model where (active) power generation is a variable at every (bus, generator) pair. We set up index sets for the buses and generators separately as expected. To allow the model to grasp which generators belong to which buses, we set up a pair of objects that have similar function and compare.\n",
    "\n",
    "- `model.BxG`: A subset of the Cartesian product of the bus and generator sets.\n",
    "- `model.G_of_b`: A partition of the set of generators into sets that are indexed in the bus set."
   ]
  },
  {
   "cell_type": "code",
   "execution_count": null,
   "metadata": {},
   "outputs": [],
   "source": [
    "model = pe.ConcreteModel()\n",
    "model.B = pe.Set(initialize=B)\n",
    "model.G = pe.Set(initialize=G)\n",
    "model.BxG = pe.Set(within=model.B*model.G, initialize={(b, g) for b in B for g in G_of_b[b]})\n",
    "model.G_of_b = pe.Param(model.B, within=pe.Any, default=set(), initialize=G_of_b)"
   ]
  },
  {
   "cell_type": "markdown",
   "metadata": {},
   "source": [
    "We need `model.BxG`, a proper Pyomo set, to construct the variables."
   ]
  },
  {
   "cell_type": "code",
   "execution_count": null,
   "metadata": {},
   "outputs": [],
   "source": [
    "model.p = pe.Var(model.BxG, domain=pe.NonNegativeReals)"
   ]
  },
  {
   "cell_type": "markdown",
   "metadata": {},
   "source": [
    "Now how do we build an expression of all power generated? We can do this at least two different ways.\n",
    "\n",
    "1. Using only `model.BxG`.\n",
    "2. Using `model.G_of_b` (`pe.Param`) with `model.B` (`pe.Set`).\n",
    "\n",
    "Both methods perform similarly. "
   ]
  },
  {
   "cell_type": "code",
   "execution_count": null,
   "metadata": {},
   "outputs": [],
   "source": [
    "expr = sum(model.p[b, g] for (b, g) in model.BxG)\n",
    "print(expr)"
   ]
  },
  {
   "cell_type": "code",
   "execution_count": null,
   "metadata": {},
   "outputs": [],
   "source": [
    "expr = sum(model.p[b, g] for b in model.B for g in model.G_of_b[b])\n",
    "print(expr)"
   ]
  },
  {
   "cell_type": "markdown",
   "metadata": {},
   "source": [
    "How about power generated just at bus C? Again, we can do this at least two different ways.\n",
    "\n",
    "1. Using `model.BxG`.\n",
    "2. Using `model.G_of_b`.\n",
    "\n",
    "This time, the latter method is probably preferable for the same reason. The latter is constructive while the former method is deconstructive."
   ]
  },
  {
   "cell_type": "code",
   "execution_count": null,
   "metadata": {},
   "outputs": [],
   "source": [
    "expr = sum(model.p[b, g] for (b, g) in model.BxG if b == 'C')\n",
    "print(expr)"
   ]
  },
  {
   "cell_type": "code",
   "execution_count": null,
   "metadata": {},
   "outputs": [],
   "source": [
    "expr = sum(model.p['C', g] for g in model.G_of_b['C'])\n",
    "print(expr)"
   ]
  }
 ],
 "metadata": {
  "kernelspec": {
   "display_name": "Python 3",
   "language": "python",
   "name": "python3"
  },
  "language_info": {
   "codemirror_mode": {
    "name": "ipython",
    "version": 3
   },
   "file_extension": ".py",
   "mimetype": "text/x-python",
   "name": "python",
   "nbconvert_exporter": "python",
   "pygments_lexer": "ipython3",
   "version": "3.8.10"
  }
 },
 "nbformat": 4,
 "nbformat_minor": 4
}
