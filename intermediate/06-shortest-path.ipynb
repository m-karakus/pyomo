{
 "cells": [
  {
   "cell_type": "code",
   "execution_count": null,
   "metadata": {},
   "outputs": [],
   "source": [
    "from collections import defaultdict\n",
    "\n",
    "import matplotlib.pyplot as plt\n",
    "import networkx as nx\n",
    "import pyomo.environ as pe\n",
    "import pyomo.opt as po"
   ]
  },
  {
   "cell_type": "markdown",
   "metadata": {},
   "source": [
    "## Define the Graph"
   ]
  },
  {
   "cell_type": "code",
   "execution_count": null,
   "metadata": {},
   "outputs": [],
   "source": [
    "nodes = {0, 1, 2, 3, 4, 5, 6, 7, 8, 9}\n",
    "edges = {(0, 1), (0, 2), (0, 3), (1, 4),\n",
    "         (1, 6), (2, 1), (2, 3), (2, 5),\n",
    "         (3, 5), (4, 2), (5, 7), (5, 8),\n",
    "         (6, 4), (6, 7), (6, 9), (7, 4),\n",
    "         (7, 9), (8, 3), (8, 7), (8, 9)}\n",
    "distance = {(0, 1): 40, (0, 2):  8, (0, 3): 10, (1, 4):  6,\n",
    "            (1, 6): 10, (2, 1):  4, (2, 3): 12, (2, 5):  2,\n",
    "            (3, 5):  1, (4, 2):  2, (5, 7):  4, (5, 8):  3,\n",
    "            (6, 4):  8, (6, 7): 20, (6, 9):  1, (7, 4):  0,\n",
    "            (7, 9): 20, (8, 3):  6, (8, 7): 10, (8, 9):  2}"
   ]
  },
  {
   "cell_type": "markdown",
   "metadata": {},
   "source": [
    "## Visualize Graph with NetworkX"
   ]
  },
  {
   "cell_type": "code",
   "execution_count": null,
   "metadata": {},
   "outputs": [],
   "source": [
    "graph = nx.DiGraph()\n",
    "graph.add_nodes_from(list(nodes))\n",
    "graph.add_edges_from(list(edges))\n",
    "pos = ({0: (4, 0), 1: (0, 0), 2: (4, 2), 3: (8, 0), 4: (2, 4),\n",
    "        5: (6, 4), 6: (0, 8), 7: (4, 6), 8: (8, 8), 9: (4, 8)})"
   ]
  },
  {
   "cell_type": "code",
   "execution_count": null,
   "metadata": {},
   "outputs": [],
   "source": [
    "fig, ax = plt.subplots(figsize=(12, 12))\n",
    "nx.draw_networkx_nodes(graph, pos=pos, ax=ax, node_color='lightgray',\n",
    "                       edgecolors='black', node_size=2000)\n",
    "nx.draw_networkx_labels(graph, pos=pos, ax=ax, labels=dict(zip(nodes, nodes)),\n",
    "                        font_size=20)\n",
    "nx.draw_networkx_edges(graph, pos=pos, ax=ax, node_size=2000, arrowsize=25)\n",
    "nx.draw_networkx_edge_labels(graph, pos=pos, ax=ax, edge_labels=distance,\n",
    "                             font_size=16, rotate=False)\n",
    "plt.axis('off')\n",
    "plt.show()"
   ]
  },
  {
   "cell_type": "markdown",
   "metadata": {},
   "source": [
    "## Define Sets of Incoming and Outgoing Edges\n",
    "This data preprocessing step makes our lives easier when we define the flow balance constraints. For large graphs, doing this ahead of time in preprocessing (as opposed to on-the-fly during model construction) reduces instance build time from $\\mathcal{O}(n^2)$ to $\\mathcal{O}(n)$."
   ]
  },
  {
   "cell_type": "code",
   "execution_count": null,
   "metadata": {},
   "outputs": [],
   "source": [
    "Vm = defaultdict(set)\n",
    "Vp = defaultdict(set)\n",
    "for (i, j) in edges:\n",
    "    Vm[i].add(j)\n",
    "    Vp[j].add(i)"
   ]
  },
  {
   "cell_type": "markdown",
   "metadata": {},
   "source": [
    "## Formulate the Shortest Path LP"
   ]
  },
  {
   "cell_type": "markdown",
   "metadata": {},
   "source": [
    "Let $\\mathcal{G} = (\\mathcal{V}, \\mathcal{E})$ be the graph. Let $s$ and $t$ be the start and terminal nodes, respectively, and let $d_{ij}$ denote distance from node $i$ to node $j$. As variables, let $x_{ij}$ be a 0-1 variable indicating the decision to permit flow across edge $(i, j)$. We also introduce the following notation to describe adjacent nodes on incoming and outgoing edges.\n",
    "\n",
    "\\begin{aligned}\n",
    "    \\mathcal{V}^-(i) = \\{j\\ |\\ (i, j) \\in \\mathcal{E}\\} \\\\\n",
    "    \\mathcal{V}^+(i) = \\{j\\ |\\ (j, i) \\in \\mathcal{E}\\}\n",
    "\\end{aligned}\n",
    "\n",
    "We require one unit of flow to enter the graph at start node $s$ and one unit of flow to leave the graph at terminal node $t$. At every other node, we require flow balance. Our objective is to minimize the length of the path satisfying the constraints. That is, we find the distance-weighted sum of the $x_{i,j}$ variables, the shortest path.\n",
    "\n",
    "$$\n",
    "\\begin{alignat*}{3}\n",
    "\\text{minimize  }  & \\sum_{(i, j) \\in \\mathcal{E}} d_{ij} x_{ij} && \\\\\n",
    "\\text{subject to  }\n",
    "& \\sum_{j \\in \\mathcal{V}^-(s)} x_{sj} = 1 && \\\\\n",
    "& \\sum_{j \\in \\mathcal{V}^+(t)} x_{jt} = 1 && \\\\\n",
    "& \\sum_{j \\in \\mathcal{V}^+(i)} x_{ji} = \\sum_{j \\in \\mathcal{V}^-(i)} x_{ij},\n",
    "&& \\qquad \\forall i \\in \\mathcal{V} \\setminus \\{s, t\\} \\\\\n",
    "& x_{ij} \\in \\{0,1\\}, \n",
    "&& \\qquad \\forall (i, j) \\in \\mathcal{E}\n",
    "\\end{alignat*}\n",
    "$$"
   ]
  },
  {
   "cell_type": "markdown",
   "metadata": {},
   "source": [
    "## Create the Model Object"
   ]
  },
  {
   "cell_type": "code",
   "execution_count": null,
   "metadata": {},
   "outputs": [],
   "source": [
    "model = pe.ConcreteModel()"
   ]
  },
  {
   "cell_type": "markdown",
   "metadata": {},
   "source": [
    "## Define the Sets\n",
    "Notice use of `within` when defining the set of edges. This ensures that $\\mathcal{E} \\subseteq \\mathcal{V} \\times \\mathcal{V}$. While this is not necessary, it is good practice and will help identify data errors."
   ]
  },
  {
   "cell_type": "code",
   "execution_count": null,
   "metadata": {},
   "outputs": [],
   "source": [
    "model.nodes = pe.Set(initialize=nodes)\n",
    "model.edges = pe.Set(within=model.nodes*model.nodes, initialize=edges)"
   ]
  },
  {
   "cell_type": "markdown",
   "metadata": {},
   "source": [
    "## Define the Parameters\n",
    "The first argument of `pe.Param` is the set in which the parameters are indexed. For example, distances are defined on the set of edges. The `initialize` argument here should be a dictionary-like construct. The dictionary keys should match align with the index set and the values are... well... the values. Notice also that $\\mathcal{V}^+(\\cdot)$ and $\\mathcal{V}^-(\\cdot)$ are indexed *sets*, not technically *parameters*. Pyomo does not directly support \"jagged\" sets like this, but using `pe.Param` is one way to implement such a feature."
   ]
  },
  {
   "cell_type": "code",
   "execution_count": null,
   "metadata": {},
   "outputs": [],
   "source": [
    "model.Vm = pe.Param(model.nodes, initialize=Vm, default=set(), within=pe.Any)\n",
    "model.Vp = pe.Param(model.nodes, initialize=Vp, default=set(), within=pe.Any)\n",
    "model.s = 0\n",
    "model.t = 9\n",
    "model.distance = pe.Param(model.edges, initialize=distance)"
   ]
  },
  {
   "cell_type": "markdown",
   "metadata": {},
   "source": [
    "# Define the Variables\n",
    "Just as it was with `pe.Param`, the first argument to `pe.Var` is the index set in which the variables are indexed. Optionally, we may define the domain of the variable set. Here, we require each $x_{i,j}$ to be binary -- either 0 or 1. If not explicitly defined, the domain is assumed to be the set of all real numbers (`pe.Reals`). The constraint matrix is totally unimodular. Consequently, the variables will assume integer values even if they are relaxed to the $[0, 1]$ interval. Below, we implement the relaxation using a combination of `domain` and `bounds`."
   ]
  },
  {
   "cell_type": "code",
   "execution_count": null,
   "metadata": {},
   "outputs": [],
   "source": [
    "model.x = pe.Var(model.edges, domain=pe.Reals, bounds=(0, 1))"
   ]
  },
  {
   "cell_type": "markdown",
   "metadata": {},
   "source": [
    "## Define the Objective\n",
    "Unlike the previous examples in which we defined the objective using an `expr`, we now use a `rule`. What's the difference? The former just requires expression. The latter requires a function that returns an expression. And why would make it more complex by involving a function? Because it's modular! (Suppose we wanted to use this objective function in a bunch of other models. We can define it once in the function, then add it to a model with one line!)"
   ]
  },
  {
   "cell_type": "code",
   "execution_count": null,
   "metadata": {},
   "outputs": [],
   "source": [
    "def shortest_path(model):\n",
    "    return sum(model.distance[i, j] * model.x[i, j]\n",
    "               for (i, j) in model.edges)\n",
    "\n",
    "model.obj_shortest_path = pe.Objective(sense=pe.minimize, rule=shortest_path)"
   ]
  },
  {
   "cell_type": "markdown",
   "metadata": {},
   "source": [
    "## Define the Constraints\n",
    "Similarly, we define the constraints using a rule (i.e., a function) instead of a bunch of expressions. We do this with a `pe.Constraint` instead of a `pe.ConstraintList` object. The positional arguments passed to `pe.Constraint` are the index sets over which the constraints are defined. In our case, there is one constraint per node, so we pass the just set of nodes.\n",
    "\n",
    "In the general case, the constraints may be indexed in multiple node sets, say $A_1$ through $A_m$. Suppose we write the following function to use as our rule:\n",
    "\n",
    "```\n",
    "def constraint_rule(model, i_1, i_2, ..., i_m):\n",
    "    ...\n",
    "    return some_condition_based_on_arguments\n",
    "\n",
    "```\n",
    "\n",
    "Then\n",
    "\n",
    "```\n",
    "model.con = pe.Constraint(model.A_1, model.A_2, ..., model.A_m,\n",
    "                          rule=constraint_rule)\n",
    "```\n",
    "\n",
    "\n",
    "\n",
    "is basically the same as\n",
    "\n",
    "```\n",
    "model.con = ConstraintList()\n",
    "for i_1 in model.A_1:\n",
    "    for i_2 in model.A_2:\n",
    "        ...\n",
    "            for i_m in model.A_m:\n",
    "                model.con.add(constraint_rule(model, i_1, i_2, ... i_m))\n",
    "```\n",
    "\n",
    "That is, both impose a constraint for each combination of indices in the Cartesian product of all index sets.\n",
    "\n",
    "This functional programming approach has a few advantages:\n",
    "1. The nested for-loops we would otherwise have to write are handled implicitly.\n",
    "2. We are able to access each constraint later by the defining combination of indices.\n",
    "3. Again, modularity!"
   ]
  },
  {
   "cell_type": "code",
   "execution_count": null,
   "metadata": {},
   "outputs": [],
   "source": [
    "def flow_balance(model, i):\n",
    "    flow_in = sum([model.x[j, i] for j in model.Vp[i]])\n",
    "    flow_out = sum([model.x[i, j] for j in model.Vm[i]])\n",
    "    if i == model.s:\n",
    "        constraint = (flow_out == 1)\n",
    "    elif i == model.t:\n",
    "        constraint = (flow_in == 1)\n",
    "    else:\n",
    "        constraint = (flow_in == flow_out)\n",
    "    return constraint\n",
    "\n",
    "model.con_flow_balance = pe.Constraint(model.nodes, rule=flow_balance)"
   ]
  },
  {
   "cell_type": "markdown",
   "metadata": {},
   "source": [
    "## Solve and Postprocess"
   ]
  },
  {
   "cell_type": "code",
   "execution_count": null,
   "metadata": {},
   "outputs": [],
   "source": [
    "solver = po.SolverFactory('cbc')\n",
    "result = solver.solve(model, tee=True)"
   ]
  },
  {
   "cell_type": "markdown",
   "metadata": {},
   "source": [
    "Interpret the output to determine the shortest path."
   ]
  },
  {
   "cell_type": "code",
   "execution_count": null,
   "metadata": {},
   "outputs": [],
   "source": [
    "i = int(model.s)\n",
    "path_nodes = [i]\n",
    "path_edges = []\n",
    "stop = False\n",
    "while not stop:\n",
    "    for j in model.Vm[i]:\n",
    "        if model.x[i, j].value == 1:\n",
    "            if j == int(model.t):\n",
    "                stop = True\n",
    "            path_nodes.append(j)\n",
    "            path_edges.append((i, j))\n",
    "            i = j\n",
    "            break\n",
    "\n",
    "display(path_nodes)"
   ]
  },
  {
   "cell_type": "markdown",
   "metadata": {},
   "source": [
    "## Visualize Solution with NetworkX"
   ]
  },
  {
   "cell_type": "code",
   "execution_count": null,
   "metadata": {},
   "outputs": [],
   "source": [
    "node_colors = ['lightblue' if i in path_nodes else 'lightgray'\n",
    "               for i in graph.nodes()]\n",
    "edge_colors = ['blue' if (i, j) in path_edges else 'black'\n",
    "               for (i, j) in graph.edges()]\n",
    "edge_widths = [2 if (i, j) in path_edges else 1\n",
    "               for (i, j) in graph.edges()]"
   ]
  },
  {
   "cell_type": "code",
   "execution_count": null,
   "metadata": {},
   "outputs": [],
   "source": [
    "fig, ax = plt.subplots(figsize=(12, 12))\n",
    "nx.draw_networkx_nodes(graph, pos=pos, ax=ax, node_color=node_colors,\n",
    "                       edgecolors='black', node_size=2000)\n",
    "nx.draw_networkx_labels(graph, pos=pos, ax=ax, labels=dict(zip(nodes, nodes)),\n",
    "                        font_size=20)\n",
    "nx.draw_networkx_edges(graph, pos=pos, ax=ax, node_size=2000, arrowsize=25,\n",
    "                       edge_color=edge_colors, width=edge_widths)\n",
    "nx.draw_networkx_edge_labels(graph, pos=pos, ax=ax, edge_labels=distance,\n",
    "                             font_size=16, rotate=False)\n",
    "plt.axis('off')\n",
    "plt.show()"
   ]
  }
 ],
 "metadata": {
  "kernelspec": {
   "display_name": "Python 3",
   "language": "python",
   "name": "python3"
  },
  "language_info": {
   "codemirror_mode": {
    "name": "ipython",
    "version": 3
   },
   "file_extension": ".py",
   "mimetype": "text/x-python",
   "name": "python",
   "nbconvert_exporter": "python",
   "pygments_lexer": "ipython3",
   "version": "3.8.10"
  }
 },
 "nbformat": 4,
 "nbformat_minor": 4
}
