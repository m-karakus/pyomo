{
 "cells": [
  {
   "cell_type": "code",
   "execution_count": null,
   "metadata": {},
   "outputs": [],
   "source": [
    "import json\n",
    "import os\n",
    "from pprint import pprint\n",
    "\n",
    "import pyomo.environ as pe\n",
    "import pyomo.opt as po\n",
    "import yaml"
   ]
  },
  {
   "cell_type": "code",
   "execution_count": null,
   "metadata": {},
   "outputs": [],
   "source": [
    "cfl_traditional_filename = os.path.join('data', 'cfl.yaml')\n",
    "cfl_blk_demand_filename = os.path.join('data', 'cfl_blk_by_demand.json')\n",
    "cfl_blk_supply_filename = os.path.join('data', 'cfl_blk_by_supply.json')"
   ]
  },
  {
   "cell_type": "markdown",
   "metadata": {},
   "source": [
    "# Setup Solver"
   ]
  },
  {
   "cell_type": "code",
   "execution_count": null,
   "metadata": {},
   "outputs": [],
   "source": [
    "solver = po.SolverFactory('glpk')"
   ]
  },
  {
   "cell_type": "markdown",
   "metadata": {},
   "source": [
    "# Capacitated Facility Location\n",
    "To demonstrate blocks, let's setup and solve an instance of the CFL model.\n",
    "\n",
    "Sets:\n",
    "- $I$: supply sites, indexed by $i$\n",
    "- $J$: demand sites, indexed by $j$\n",
    "\n",
    "Parameters:\n",
    "- $s_i$: supply capacity of supply site $i$\n",
    "- $d_j$: demand required by demand site $j$\n",
    "- $f_i$: fixed cost to open supply site $i$\n",
    "- $c_{ij}$: variable cost to transport from supply site $i$ to demand site $j$\n",
    "\n",
    "Variables:\n",
    "- $x_{ij}$ - quantity of product to ship from supply site $i$ to demand site $j$\n",
    "- $y_i$ - 0/1 decision variable indicating that supply site $i$ is producing\n",
    "\n",
    "Model:\n",
    "$$\n",
    "\\begin{alignat*}{3}\n",
    "\\text{minimize  }  & \\sum_{i \\in I} f_i y_i + \\sum_{i \\in I} \\sum_{j \\in J} c_{ij} x_{ij} \\\\\n",
    "\\text{subject to  }\n",
    "& \\sum_{i \\in I} x_{ij} \\ge d_j && \\forall j \\in J \\\\\n",
    "& \\sum_{j \\in J} x_{ij} \\le s_i y_i && \\forall i \\in I \\\\\n",
    "& x \\in \\mathbb{R}_+^{|I| \\times |J|} && \\\\\n",
    "& y \\in \\{0, 1\\}^{|I|} && \\\\\n",
    "\\end{alignat*}\n",
    "$$"
   ]
  },
  {
   "cell_type": "markdown",
   "metadata": {},
   "source": [
    "# Implementation without Blocks"
   ]
  },
  {
   "cell_type": "code",
   "execution_count": null,
   "metadata": {},
   "outputs": [],
   "source": [
    "with open(cfl_traditional_filename) as fh:\n",
    "    data = yaml.load(fh, Loader=yaml.FullLoader)\n",
    "pprint(data)"
   ]
  },
  {
   "cell_type": "code",
   "execution_count": null,
   "metadata": {},
   "outputs": [],
   "source": [
    "model = pe.ConcreteModel(\"Traditional\")\n",
    "\n",
    "# sets\n",
    "model.I = pe.Set(initialize=data['supply_sites'])\n",
    "model.J = pe.Set(initialize=data['demand_sites'])\n",
    "\n",
    "# parameters\n",
    "model.s = pe.Param(model.I, initialize=data['supply'])\n",
    "model.d = pe.Param(model.J, initialize=data['demand'])\n",
    "model.f = pe.Param(model.I, initialize=data['fixed_cost'])\n",
    "model.c = pe.Param(model.I, model.J, initialize=data['variable_cost'])\n",
    "\n",
    "# variables\n",
    "model.x = pe.Var(model.I, model.J, domain=pe.NonNegativeReals)\n",
    "model.y = pe.Var(model.I, domain=pe.Binary)\n",
    "\n",
    "# constraints\n",
    "def con_satisfaction(model, j):\n",
    "    return sum(model.x[i, j] for i in model.I) >= model.d[j]\n",
    "model.con_satisfaction = pe.Constraint(model.J, rule=con_satisfaction)\n",
    "\n",
    "def con_transportation(model, i):\n",
    "    return sum(model.x[i, j] for j in model.J) <= model.s[i] * model.y[i]\n",
    "model.con_transportation = pe.Constraint(model.I, rule=con_transportation)\n",
    "\n",
    "# objective\n",
    "def obj_min_cost(model):\n",
    "    return sum(model.f[i] * model.y[i] for i in model.I)\\\n",
    "        + sum(model.c[i, j] * model.x[i, j] for i in model.I for j in model.J)\n",
    "model.obj_min_cost = pe.Objective(sense=pe.minimize, rule=obj_min_cost)"
   ]
  },
  {
   "cell_type": "code",
   "execution_count": null,
   "metadata": {},
   "outputs": [],
   "source": [
    "result = solver.solve(model)\n",
    "model.display()"
   ]
  },
  {
   "cell_type": "markdown",
   "metadata": {},
   "source": [
    "# Implementation with Blocks Indexed by Demand Sites"
   ]
  },
  {
   "cell_type": "code",
   "execution_count": null,
   "metadata": {},
   "outputs": [],
   "source": [
    "with open(cfl_blk_demand_filename) as fh:\n",
    "    data = json.load(fh)\n",
    "pprint(data)"
   ]
  },
  {
   "cell_type": "code",
   "execution_count": null,
   "metadata": {},
   "outputs": [],
   "source": [
    "model = pe.ConcreteModel(\"Blocks (by Demand Site)\")\n",
    "\n",
    "# sets\n",
    "model.I = pe.Set(initialize=data['supply_sites'])\n",
    "model.J = pe.Set(initialize=data['demand_sites'])\n",
    "\n",
    "# parameters (not indexed in J)\n",
    "model.s = pe.Param(model.I, initialize=data['supply'])\n",
    "model.f = pe.Param(model.I, initialize=data['fixed_cost'])\n",
    "\n",
    "# variables (not indexed in J)\n",
    "model.y = pe.Var(model.I, domain=pe.Binary)\n",
    "\n",
    "# blocks (indexed in J)\n",
    "def blk_demand(block, j):\n",
    "    blk_data = data['demand_data'][j]\n",
    "    I = block.model().I # borrow the set of supply sites from the overarching model\n",
    "    block.d = pe.Param(initialize=blk_data['demand'])\n",
    "    block.c = pe.Param(I, initialize=blk_data['variable_cost'])\n",
    "    block.x = pe.Var(I, domain=pe.NonNegativeReals)\n",
    "    block.con_satisfaction = pe.Constraint(expr=(sum(block.x[i] for i in I) >= block.d))\n",
    "    block.variable_cost = sum(block.c[i] * block.x[i] for i in I)\n",
    "model.blk_demand = pe.Block(model.J, rule=blk_demand)\n",
    "\n",
    "# constraints (not indexed in J)\n",
    "def con_transportation(model, i):\n",
    "    return sum(model.blk_demand[j].x[i] for j in model.J) <= model.s[i] * model.y[i]\n",
    "model.con_transportation = pe.Constraint(model.I, rule=con_transportation)\n",
    "\n",
    "# objective\n",
    "def obj_min_cost(model):\n",
    "    return sum(model.f[i] * model.y[i] for i in model.I)\\\n",
    "        + sum(model.blk_demand[j].variable_cost for j in model.J)\n",
    "model.obj_min_cost = pe.Objective(sense=pe.minimize, rule=obj_min_cost)"
   ]
  },
  {
   "cell_type": "code",
   "execution_count": null,
   "metadata": {},
   "outputs": [],
   "source": [
    "result = solver.solve(model)\n",
    "model.display()"
   ]
  },
  {
   "cell_type": "markdown",
   "metadata": {},
   "source": [
    "# Implementation with Blocks Indexed by Supply Sites"
   ]
  },
  {
   "cell_type": "code",
   "execution_count": null,
   "metadata": {},
   "outputs": [],
   "source": [
    "with open(cfl_blk_supply_filename) as fh:\n",
    "    data = json.load(fh)\n",
    "pprint(data)"
   ]
  },
  {
   "cell_type": "code",
   "execution_count": null,
   "metadata": {},
   "outputs": [],
   "source": [
    "model = pe.ConcreteModel(\"Blocks (by Supply Site)\")\n",
    "\n",
    "# sets\n",
    "model.I = pe.Set(initialize=data['supply_sites'])\n",
    "model.J = pe.Set(initialize=data['demand_sites'])\n",
    "\n",
    "# parameters (not indexed in I)\n",
    "model.d = pe.Param(model.J, initialize=data['demand'])\n",
    "\n",
    "# blocks (indexed in I)\n",
    "def blk_supply(block, i):\n",
    "    blk_data = data['supply_data'][i]\n",
    "    J = block.model().J # borrow the set of demand sites from the overarching model\n",
    "    block.c = pe.Param(J, initialize=blk_data['variable_cost'])\n",
    "    block.f = pe.Param(initialize=blk_data['fixed_cost'])\n",
    "    block.s = pe.Param(initialize=blk_data['supply'])\n",
    "    block.x = pe.Var(J, domain=pe.NonNegativeReals)\n",
    "    block.y = pe.Var(domain=pe.Binary)\n",
    "    transportation = sum(block.x[j] for j in J)\n",
    "    block.con_transportation = pe.Constraint(expr=(transportation <= block.s * block.y))\n",
    "    block.obj = block.f * block.y + sum(block.c[j] * block.x[j] for j in J)\n",
    "model.blk_supply = pe.Block(model.I, rule=blk_supply)\n",
    "\n",
    "# constraints (not indexed in I)\n",
    "def con_satisfaction(model, j):\n",
    "    return sum(model.blk_supply[i].x[j] for i in model.I) == model.d[j]\n",
    "model.con_satisfaction = pe.Constraint(model.J, rule=con_satisfaction)\n",
    "\n",
    "# objective\n",
    "def obj_min_cost(model):\n",
    "    return sum(model.blk_supply[i].obj for i in model.I)\n",
    "model.obj_min_cost = pe.Objective(sense=pe.minimize, rule=obj_min_cost)"
   ]
  },
  {
   "cell_type": "code",
   "execution_count": null,
   "metadata": {},
   "outputs": [],
   "source": [
    "result = solver.solve(model)\n",
    "model.display()"
   ]
  }
 ],
 "metadata": {
  "kernelspec": {
   "display_name": "Python 3",
   "language": "python",
   "name": "python3"
  },
  "language_info": {
   "codemirror_mode": {
    "name": "ipython",
    "version": 3
   },
   "file_extension": ".py",
   "mimetype": "text/x-python",
   "name": "python",
   "nbconvert_exporter": "python",
   "pygments_lexer": "ipython3",
   "version": "3.8.10"
  }
 },
 "nbformat": 4,
 "nbformat_minor": 4
}
