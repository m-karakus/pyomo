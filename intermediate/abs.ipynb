{
 "cells": [
  {
   "cell_type": "code",
   "execution_count": 11,
   "metadata": {},
   "outputs": [],
   "source": [
    "from pyomo.environ import *\n",
    "model = AbstractModel()"
   ]
  },
  {
   "cell_type": "code",
   "execution_count": 12,
   "metadata": {},
   "outputs": [
    {
     "data": {
      "text/html": [
       "<div>\n",
       "<style scoped>\n",
       "    .dataframe tbody tr th:only-of-type {\n",
       "        vertical-align: middle;\n",
       "    }\n",
       "\n",
       "    .dataframe tbody tr th {\n",
       "        vertical-align: top;\n",
       "    }\n",
       "\n",
       "    .dataframe thead th {\n",
       "        text-align: right;\n",
       "    }\n",
       "</style>\n",
       "<table border=\"1\" class=\"dataframe\">\n",
       "  <thead>\n",
       "    <tr style=\"text-align: right;\">\n",
       "      <th></th>\n",
       "      <th>p1</th>\n",
       "      <th>p2</th>\n",
       "    </tr>\n",
       "  </thead>\n",
       "  <tbody>\n",
       "    <tr>\n",
       "      <th>0</th>\n",
       "      <td>3</td>\n",
       "      <td>4</td>\n",
       "    </tr>\n",
       "    <tr>\n",
       "      <th>1</th>\n",
       "      <td>3</td>\n",
       "      <td>3</td>\n",
       "    </tr>\n",
       "    <tr>\n",
       "      <th>2</th>\n",
       "      <td>3</td>\n",
       "      <td>4</td>\n",
       "    </tr>\n",
       "    <tr>\n",
       "      <th>3</th>\n",
       "      <td>1</td>\n",
       "      <td>2</td>\n",
       "    </tr>\n",
       "    <tr>\n",
       "      <th>4</th>\n",
       "      <td>3</td>\n",
       "      <td>3</td>\n",
       "    </tr>\n",
       "    <tr>\n",
       "      <th>5</th>\n",
       "      <td>2</td>\n",
       "      <td>5</td>\n",
       "    </tr>\n",
       "    <tr>\n",
       "      <th>6</th>\n",
       "      <td>3</td>\n",
       "      <td>7</td>\n",
       "    </tr>\n",
       "    <tr>\n",
       "      <th>7</th>\n",
       "      <td>4</td>\n",
       "      <td>5</td>\n",
       "    </tr>\n",
       "    <tr>\n",
       "      <th>8</th>\n",
       "      <td>4</td>\n",
       "      <td>2</td>\n",
       "    </tr>\n",
       "    <tr>\n",
       "      <th>9</th>\n",
       "      <td>4</td>\n",
       "      <td>3</td>\n",
       "    </tr>\n",
       "    <tr>\n",
       "      <th>10</th>\n",
       "      <td>2</td>\n",
       "      <td>5</td>\n",
       "    </tr>\n",
       "    <tr>\n",
       "      <th>11</th>\n",
       "      <td>2</td>\n",
       "      <td>6</td>\n",
       "    </tr>\n",
       "  </tbody>\n",
       "</table>\n",
       "</div>"
      ],
      "text/plain": [
       "    p1  p2\n",
       "0    3   4\n",
       "1    3   3\n",
       "2    3   4\n",
       "3    1   2\n",
       "4    3   3\n",
       "5    2   5\n",
       "6    3   7\n",
       "7    4   5\n",
       "8    4   2\n",
       "9    4   3\n",
       "10   2   5\n",
       "11   2   6"
      ]
     },
     "execution_count": 12,
     "metadata": {},
     "output_type": "execute_result"
    }
   ],
   "source": [
    "import pandas as pd\n",
    "  \n",
    "# intialise data of lists.\n",
    "data = {\n",
    "    'p1':[3,3,3,1,3,2,3,4,4,4,2,2],\n",
    "    'p2':[4,3,4,2,3,5,7,5,2,3,5,6]\n",
    "        }\n",
    "df = pd.DataFrame(data)\n",
    "df"
   ]
  },
  {
   "cell_type": "code",
   "execution_count": 13,
   "metadata": {},
   "outputs": [],
   "source": [
    "model.i = RangeSet(len(df))\n",
    "model.j = Set(initialize=model.i)\n",
    "model.t = RangeSet(6)"
   ]
  },
  {
   "cell_type": "code",
   "execution_count": 15,
   "metadata": {},
   "outputs": [],
   "source": [
    "def initP1(model, i):\n",
    "    return df.loc[i-1,'p1']"
   ]
  },
  {
   "cell_type": "code",
   "execution_count": 16,
   "metadata": {},
   "outputs": [],
   "source": [
    "model.P1 = Param(model.i, within=NonNegativeReals, initialize=initP1, mutable=True)"
   ]
  },
  {
   "cell_type": "code",
   "execution_count": 17,
   "metadata": {},
   "outputs": [],
   "source": [
    "def initP2(model, i):\n",
    "    return df.loc[i-1,'p2']"
   ]
  },
  {
   "cell_type": "code",
   "execution_count": 18,
   "metadata": {},
   "outputs": [],
   "source": [
    "model.P2 = Param(model.i, within=NonNegativeReals, initialize=initP2, mutable=True)"
   ]
  },
  {
   "cell_type": "code",
   "execution_count": 19,
   "metadata": {},
   "outputs": [],
   "source": [
    "model.St_P1 = Var(model.i, initialize=0, bounds=(0,df['p1'].sum()), within=NonNegativeReals)\n",
    "model.St_P2 = Var(model.i, initialize=0, bounds=(0,df['p1'].sum()+df['p2'].sum()), within=NonNegativeReals)"
   ]
  },
  {
   "cell_type": "code",
   "execution_count": 20,
   "metadata": {},
   "outputs": [],
   "source": [
    "model.St_OrderP1 = Var(model.i, model.j, initialize=0, bounds=(0,1), within=Binary)"
   ]
  },
  {
   "cell_type": "code",
   "execution_count": 21,
   "metadata": {},
   "outputs": [],
   "source": [
    "model.Last = Var(initialize=0, bounds=(0,1.5*df['p1'].sum() + df['p2'].sum()), within=NonNegativeReals)"
   ]
  },
  {
   "cell_type": "code",
   "execution_count": 22,
   "metadata": {},
   "outputs": [],
   "source": [
    "def rule_C1(model, i):\n",
    "    return model.St_P2[i] - model.St_P1[i] >= model.P1[i]\n",
    "\n",
    "model.C1 = Constraint(model.i, rule=rule_C1)"
   ]
  },
  {
   "cell_type": "code",
   "execution_count": 23,
   "metadata": {},
   "outputs": [],
   "source": [
    "def rule_C2(model, i, j):\n",
    "    if i != j:\n",
    "        return model.St_P1[j] - model.St_P1[i] >= model.P1[i] - 1.5* df['p1'].sum()*(1 - model.St_OrderP1[i,j])\n",
    "    else:\n",
    "        Constraint.Skip\n",
    "model.C2 = Constraint(model.i, model.j, rule=rule_C2)"
   ]
  },
  {
   "cell_type": "code",
   "execution_count": 24,
   "metadata": {},
   "outputs": [],
   "source": [
    "def rule_C2B(model, i, j):\n",
    "    if i != j:\n",
    "        return model.St_P2[j] - model.St_P2[i] >= model.P2[i] - 1.5* (df['p1'].sum() + df['p2'].sum()) *(1 - model.St_OrderP1[i,j])\n",
    "    else:\n",
    "        Constraint.Skip\n",
    "\n",
    "model.C2B = Constraint(model.i, model.j, rule=rule_C2B)"
   ]
  },
  {
   "cell_type": "code",
   "execution_count": 25,
   "metadata": {},
   "outputs": [],
   "source": [
    "def rule_C3(model, i,j):\n",
    "    if i > j:\n",
    "        return model.St_OrderP1[i,j] + model.St_OrderP1[j,i] == 1\n",
    "    else:\n",
    "        return Constraint.Skip\n",
    "\n",
    "model.C3 = Constraint(model.i, model.j, rule=rule_C3)"
   ]
  },
  {
   "cell_type": "code",
   "execution_count": 26,
   "metadata": {},
   "outputs": [],
   "source": [
    "def rule_C4(model, i):\n",
    "    return model.Last >= model.St_P2[i] + model.P2[i]\n",
    "\n",
    "model.C4 = Constraint(model.i, rule=rule_C4)"
   ]
  },
  {
   "cell_type": "code",
   "execution_count": 27,
   "metadata": {},
   "outputs": [],
   "source": [
    "def rule_OF(model):\n",
    "    return model.Last\n",
    "\n",
    "model.obj1 = Objective(rule=rule_OF, sense=minimize)"
   ]
  },
  {
   "cell_type": "code",
   "execution_count": 39,
   "metadata": {},
   "outputs": [],
   "source": [
    "opt = SolverFactory('glpk')"
   ]
  },
  {
   "cell_type": "code",
   "execution_count": 40,
   "metadata": {},
   "outputs": [
    {
     "ename": "RuntimeError",
     "evalue": "Attempting to solve model=unknown with unconstructed component(s)",
     "output_type": "error",
     "traceback": [
      "\u001b[0;31m---------------------------------------------------------------------------\u001b[0m",
      "\u001b[0;31mRuntimeError\u001b[0m                              Traceback (most recent call last)",
      "\u001b[1;32m/home/metin/codes/pyomo/intermediate/abs.ipynb Cell 18'\u001b[0m in \u001b[0;36m<cell line: 1>\u001b[0;34m()\u001b[0m\n\u001b[0;32m----> <a href='vscode-notebook-cell:/home/metin/codes/pyomo/intermediate/abs.ipynb#ch0000017?line=0'>1</a>\u001b[0m opt\u001b[39m.\u001b[39;49msolve(model)\n",
      "File \u001b[0;32m~/env/3104/lib/python3.10/site-packages/pyomo/opt/base/solvers.py:527\u001b[0m, in \u001b[0;36mOptSolver.solve\u001b[0;34m(self, *args, **kwds)\u001b[0m\n\u001b[1;32m    <a href='file:///home/metin/env/3104/lib/python3.10/site-packages/pyomo/opt/base/solvers.py?line=524'>525</a>\u001b[0m \u001b[39mif\u001b[39;00m \u001b[39misinstance\u001b[39m(arg, _BlockData):\n\u001b[1;32m    <a href='file:///home/metin/env/3104/lib/python3.10/site-packages/pyomo/opt/base/solvers.py?line=525'>526</a>\u001b[0m     \u001b[39mif\u001b[39;00m \u001b[39mnot\u001b[39;00m arg\u001b[39m.\u001b[39mis_constructed():\n\u001b[0;32m--> <a href='file:///home/metin/env/3104/lib/python3.10/site-packages/pyomo/opt/base/solvers.py?line=526'>527</a>\u001b[0m         \u001b[39mraise\u001b[39;00m \u001b[39mRuntimeError\u001b[39;00m(\n\u001b[1;32m    <a href='file:///home/metin/env/3104/lib/python3.10/site-packages/pyomo/opt/base/solvers.py?line=527'>528</a>\u001b[0m             \u001b[39m\"\u001b[39m\u001b[39mAttempting to solve model=\u001b[39m\u001b[39m%s\u001b[39;00m\u001b[39m with unconstructed \u001b[39m\u001b[39m\"\u001b[39m\n\u001b[1;32m    <a href='file:///home/metin/env/3104/lib/python3.10/site-packages/pyomo/opt/base/solvers.py?line=528'>529</a>\u001b[0m             \u001b[39m\"\u001b[39m\u001b[39mcomponent(s)\u001b[39m\u001b[39m\"\u001b[39m \u001b[39m%\u001b[39m (arg\u001b[39m.\u001b[39mname,) )\n\u001b[1;32m    <a href='file:///home/metin/env/3104/lib/python3.10/site-packages/pyomo/opt/base/solvers.py?line=530'>531</a>\u001b[0m _model \u001b[39m=\u001b[39m arg\n\u001b[1;32m    <a href='file:///home/metin/env/3104/lib/python3.10/site-packages/pyomo/opt/base/solvers.py?line=531'>532</a>\u001b[0m \u001b[39m# import suffixes must be on the top-level model\u001b[39;00m\n",
      "\u001b[0;31mRuntimeError\u001b[0m: Attempting to solve model=unknown with unconstructed component(s)"
     ]
    }
   ],
   "source": [
    "opt.solve(model)"
   ]
  },
  {
   "cell_type": "code",
   "execution_count": 31,
   "metadata": {},
   "outputs": [
    {
     "name": "stdout",
     "output_type": "stream",
     "text": [
      "5 Set Declarations\n",
      "    C2B_index : Size=0, Index=None, Ordered=True\n",
      "        Not constructed\n",
      "    C2_index : Size=0, Index=None, Ordered=True\n",
      "        Not constructed\n",
      "    C3_index : Size=0, Index=None, Ordered=True\n",
      "        Not constructed\n",
      "    St_OrderP1_index : Size=0, Index=None, Ordered=True\n",
      "        Not constructed\n",
      "    j : Size=0, Index=None, Ordered=Insertion\n",
      "        Not constructed\n",
      "\n",
      "2 RangeSet Declarations\n",
      "    i : Dimen=1, Size=12, Bounds=(1, 12)\n",
      "        Key  : Finite : Members\n",
      "        None :   True :  [1:12]\n",
      "    t : Dimen=1, Size=6, Bounds=(1, 6)\n",
      "        Key  : Finite : Members\n",
      "        None :   True :   [1:6]\n",
      "\n",
      "2 Param Declarations\n",
      "    P1 : Size=0, Index=i, Domain=NonNegativeReals, Default=None, Mutable=True\n",
      "        Not constructed\n",
      "    P2 : Size=0, Index=i, Domain=NonNegativeReals, Default=None, Mutable=True\n",
      "        Not constructed\n",
      "\n",
      "4 Var Declarations\n",
      "    Last : Size=0, Index=None\n",
      "        Not constructed\n",
      "    St_OrderP1 : Size=0, Index=St_OrderP1_index\n",
      "        Not constructed\n",
      "    St_P1 : Size=0, Index=i\n",
      "        Not constructed\n",
      "    St_P2 : Size=0, Index=i\n",
      "        Not constructed\n",
      "\n",
      "1 Objective Declarations\n",
      "    obj1 : Size=0, Index=None, Active=True\n",
      "        Not constructed\n",
      "\n",
      "5 Constraint Declarations\n",
      "    C1 : Size=0, Index=i, Active=True\n",
      "        Not constructed\n"
     ]
    },
    {
     "ename": "RuntimeError",
     "evalue": "Cannot access '__len__' on AbstractOrderedScalarSet 'j' before it has been constructed (initialized): '__len__' is an attribute on an Abstract component and cannot be accessed until the component has been fully constructed (converted to a Concrete component) using AbstractModel.create_instance() or j.construct().",
     "output_type": "error",
     "traceback": [
      "\u001b[0;31m---------------------------------------------------------------------------\u001b[0m",
      "\u001b[0;31mRuntimeError\u001b[0m                              Traceback (most recent call last)",
      "\u001b[1;32m/home/metin/codes/pyomo/intermediate/abs.ipynb Cell 19'\u001b[0m in \u001b[0;36m<cell line: 1>\u001b[0;34m()\u001b[0m\n\u001b[0;32m----> <a href='vscode-notebook-cell:/home/metin/codes/pyomo/intermediate/abs.ipynb#ch0000018?line=0'>1</a>\u001b[0m model\u001b[39m.\u001b[39;49mpprint()\n",
      "File \u001b[0;32m~/env/3104/lib/python3.10/site-packages/pyomo/core/base/component.py:511\u001b[0m, in \u001b[0;36mComponent.pprint\u001b[0;34m(self, ostream, verbose, prefix)\u001b[0m\n\u001b[1;32m    <a href='file:///home/metin/env/3104/lib/python3.10/site-packages/pyomo/core/base/component.py?line=508'>509</a>\u001b[0m \u001b[39mdef\u001b[39;00m \u001b[39mpprint\u001b[39m(\u001b[39mself\u001b[39m, ostream\u001b[39m=\u001b[39m\u001b[39mNone\u001b[39;00m, verbose\u001b[39m=\u001b[39m\u001b[39mFalse\u001b[39;00m, prefix\u001b[39m=\u001b[39m\u001b[39m\"\u001b[39m\u001b[39m\"\u001b[39m):\n\u001b[1;32m    <a href='file:///home/metin/env/3104/lib/python3.10/site-packages/pyomo/core/base/component.py?line=509'>510</a>\u001b[0m     \u001b[39m\"\"\"Print component information\"\"\"\u001b[39;00m\n\u001b[0;32m--> <a href='file:///home/metin/env/3104/lib/python3.10/site-packages/pyomo/core/base/component.py?line=510'>511</a>\u001b[0m     \u001b[39mself\u001b[39;49m\u001b[39m.\u001b[39;49m_pprint_base_impl(\n\u001b[1;32m    <a href='file:///home/metin/env/3104/lib/python3.10/site-packages/pyomo/core/base/component.py?line=511'>512</a>\u001b[0m         ostream, verbose, prefix, \u001b[39mself\u001b[39;49m\u001b[39m.\u001b[39;49mlocal_name, \u001b[39mself\u001b[39;49m\u001b[39m.\u001b[39;49mdoc,\n\u001b[1;32m    <a href='file:///home/metin/env/3104/lib/python3.10/site-packages/pyomo/core/base/component.py?line=512'>513</a>\u001b[0m         \u001b[39mself\u001b[39;49m\u001b[39m.\u001b[39;49mis_constructed(), \u001b[39m*\u001b[39;49m\u001b[39mself\u001b[39;49m\u001b[39m.\u001b[39;49m_pprint()\n\u001b[1;32m    <a href='file:///home/metin/env/3104/lib/python3.10/site-packages/pyomo/core/base/component.py?line=513'>514</a>\u001b[0m     )\n",
      "File \u001b[0;32m~/env/3104/lib/python3.10/site-packages/pyomo/core/base/component.py:368\u001b[0m, in \u001b[0;36m_ComponentBase._pprint_base_impl\u001b[0;34m(self, ostream, verbose, prefix, _name, _doc, _constructed, _attr, _data, _header, _fcn)\u001b[0m\n\u001b[1;32m    <a href='file:///home/metin/env/3104/lib/python3.10/site-packages/pyomo/core/base/component.py?line=365'>366</a>\u001b[0m     _data_dict \u001b[39m=\u001b[39m \u001b[39mdict\u001b[39m(_data)\n\u001b[1;32m    <a href='file:///home/metin/env/3104/lib/python3.10/site-packages/pyomo/core/base/component.py?line=366'>367</a>\u001b[0m     \u001b[39mfor\u001b[39;00m _key \u001b[39min\u001b[39;00m sorted_robust(_data_dict):\n\u001b[0;32m--> <a href='file:///home/metin/env/3104/lib/python3.10/site-packages/pyomo/core/base/component.py?line=367'>368</a>\u001b[0m         _fcn(ostream, _key, _data_dict[_key])\n\u001b[1;32m    <a href='file:///home/metin/env/3104/lib/python3.10/site-packages/pyomo/core/base/component.py?line=368'>369</a>\u001b[0m \u001b[39melif\u001b[39;00m _data \u001b[39mis\u001b[39;00m \u001b[39mnot\u001b[39;00m \u001b[39mNone\u001b[39;00m:\n\u001b[1;32m    <a href='file:///home/metin/env/3104/lib/python3.10/site-packages/pyomo/core/base/component.py?line=369'>370</a>\u001b[0m     ostream\u001b[39m.\u001b[39mwrite(_data)\n",
      "File \u001b[0;32m~/env/3104/lib/python3.10/site-packages/pyomo/core/base/block.py:2000\u001b[0m, in \u001b[0;36mBlock._pprint_callback\u001b[0;34m(self, ostream, idx, data)\u001b[0m\n\u001b[1;32m   <a href='file:///home/metin/env/3104/lib/python3.10/site-packages/pyomo/core/base/block.py?line=1997'>1998</a>\u001b[0m \u001b[39mdef\u001b[39;00m \u001b[39m_pprint_callback\u001b[39m(\u001b[39mself\u001b[39m, ostream, idx, data):\n\u001b[1;32m   <a href='file:///home/metin/env/3104/lib/python3.10/site-packages/pyomo/core/base/block.py?line=1998'>1999</a>\u001b[0m     \u001b[39mif\u001b[39;00m \u001b[39mnot\u001b[39;00m \u001b[39mself\u001b[39m\u001b[39m.\u001b[39mis_indexed():\n\u001b[0;32m-> <a href='file:///home/metin/env/3104/lib/python3.10/site-packages/pyomo/core/base/block.py?line=1999'>2000</a>\u001b[0m         data\u001b[39m.\u001b[39;49m_pprint_blockdata_components(ostream)\n\u001b[1;32m   <a href='file:///home/metin/env/3104/lib/python3.10/site-packages/pyomo/core/base/block.py?line=2000'>2001</a>\u001b[0m     \u001b[39melse\u001b[39;00m:\n\u001b[1;32m   <a href='file:///home/metin/env/3104/lib/python3.10/site-packages/pyomo/core/base/block.py?line=2001'>2002</a>\u001b[0m         ostream\u001b[39m.\u001b[39mwrite(\u001b[39m\"\u001b[39m\u001b[39m%s\u001b[39;00m\u001b[39m : Active=\u001b[39m\u001b[39m%s\u001b[39;00m\u001b[39m\\n\u001b[39;00m\u001b[39m\"\u001b[39m \u001b[39m%\u001b[39m (data\u001b[39m.\u001b[39mname, data\u001b[39m.\u001b[39mactive))\n",
      "File \u001b[0;32m~/env/3104/lib/python3.10/site-packages/pyomo/core/base/block.py:1699\u001b[0m, in \u001b[0;36m_BlockData._pprint_blockdata_components\u001b[0;34m(self, ostream)\u001b[0m\n\u001b[1;32m   <a href='file:///home/metin/env/3104/lib/python3.10/site-packages/pyomo/core/base/block.py?line=1695'>1696</a>\u001b[0m     ostream\u001b[39m.\u001b[39mwrite(\u001b[39m\"\u001b[39m\u001b[39m%d\u001b[39;00m\u001b[39m \u001b[39m\u001b[39m%s\u001b[39;00m\u001b[39m Declarations\u001b[39m\u001b[39m\\n\u001b[39;00m\u001b[39m\"\u001b[39m\n\u001b[1;32m   <a href='file:///home/metin/env/3104/lib/python3.10/site-packages/pyomo/core/base/block.py?line=1696'>1697</a>\u001b[0m                   \u001b[39m%\u001b[39m (\u001b[39mlen\u001b[39m(keys), item\u001b[39m.\u001b[39m\u001b[39m__name__\u001b[39m))\n\u001b[1;32m   <a href='file:///home/metin/env/3104/lib/python3.10/site-packages/pyomo/core/base/block.py?line=1697'>1698</a>\u001b[0m     \u001b[39mfor\u001b[39;00m key \u001b[39min\u001b[39;00m keys:\n\u001b[0;32m-> <a href='file:///home/metin/env/3104/lib/python3.10/site-packages/pyomo/core/base/block.py?line=1698'>1699</a>\u001b[0m         \u001b[39mself\u001b[39;49m\u001b[39m.\u001b[39;49mcomponent(key)\u001b[39m.\u001b[39;49mpprint(ostream\u001b[39m=\u001b[39;49mindented_ostream)\n\u001b[1;32m   <a href='file:///home/metin/env/3104/lib/python3.10/site-packages/pyomo/core/base/block.py?line=1699'>1700</a>\u001b[0m     ostream\u001b[39m.\u001b[39mwrite(\u001b[39m\"\u001b[39m\u001b[39m\\n\u001b[39;00m\u001b[39m\"\u001b[39m)\n\u001b[1;32m   <a href='file:///home/metin/env/3104/lib/python3.10/site-packages/pyomo/core/base/block.py?line=1700'>1701</a>\u001b[0m \u001b[39m#\u001b[39;00m\n\u001b[1;32m   <a href='file:///home/metin/env/3104/lib/python3.10/site-packages/pyomo/core/base/block.py?line=1701'>1702</a>\u001b[0m \u001b[39m# Model Order\u001b[39;00m\n\u001b[1;32m   <a href='file:///home/metin/env/3104/lib/python3.10/site-packages/pyomo/core/base/block.py?line=1702'>1703</a>\u001b[0m \u001b[39m#\u001b[39;00m\n",
      "File \u001b[0;32m~/env/3104/lib/python3.10/site-packages/pyomo/core/base/component.py:513\u001b[0m, in \u001b[0;36mComponent.pprint\u001b[0;34m(self, ostream, verbose, prefix)\u001b[0m\n\u001b[1;32m    <a href='file:///home/metin/env/3104/lib/python3.10/site-packages/pyomo/core/base/component.py?line=508'>509</a>\u001b[0m \u001b[39mdef\u001b[39;00m \u001b[39mpprint\u001b[39m(\u001b[39mself\u001b[39m, ostream\u001b[39m=\u001b[39m\u001b[39mNone\u001b[39;00m, verbose\u001b[39m=\u001b[39m\u001b[39mFalse\u001b[39;00m, prefix\u001b[39m=\u001b[39m\u001b[39m\"\u001b[39m\u001b[39m\"\u001b[39m):\n\u001b[1;32m    <a href='file:///home/metin/env/3104/lib/python3.10/site-packages/pyomo/core/base/component.py?line=509'>510</a>\u001b[0m     \u001b[39m\"\"\"Print component information\"\"\"\u001b[39;00m\n\u001b[1;32m    <a href='file:///home/metin/env/3104/lib/python3.10/site-packages/pyomo/core/base/component.py?line=510'>511</a>\u001b[0m     \u001b[39mself\u001b[39m\u001b[39m.\u001b[39m_pprint_base_impl(\n\u001b[1;32m    <a href='file:///home/metin/env/3104/lib/python3.10/site-packages/pyomo/core/base/component.py?line=511'>512</a>\u001b[0m         ostream, verbose, prefix, \u001b[39mself\u001b[39m\u001b[39m.\u001b[39mlocal_name, \u001b[39mself\u001b[39m\u001b[39m.\u001b[39mdoc,\n\u001b[0;32m--> <a href='file:///home/metin/env/3104/lib/python3.10/site-packages/pyomo/core/base/component.py?line=512'>513</a>\u001b[0m         \u001b[39mself\u001b[39m\u001b[39m.\u001b[39mis_constructed(), \u001b[39m*\u001b[39m\u001b[39mself\u001b[39;49m\u001b[39m.\u001b[39;49m_pprint()\n\u001b[1;32m    <a href='file:///home/metin/env/3104/lib/python3.10/site-packages/pyomo/core/base/component.py?line=513'>514</a>\u001b[0m     )\n",
      "File \u001b[0;32m~/env/3104/lib/python3.10/site-packages/pyomo/core/base/constraint.py:783\u001b[0m, in \u001b[0;36mConstraint._pprint\u001b[0;34m(self)\u001b[0m\n\u001b[1;32m    <a href='file:///home/metin/env/3104/lib/python3.10/site-packages/pyomo/core/base/constraint.py?line=773'>774</a>\u001b[0m \u001b[39mdef\u001b[39;00m \u001b[39m_pprint\u001b[39m(\u001b[39mself\u001b[39m):\n\u001b[1;32m    <a href='file:///home/metin/env/3104/lib/python3.10/site-packages/pyomo/core/base/constraint.py?line=774'>775</a>\u001b[0m     \u001b[39m\"\"\"\u001b[39;00m\n\u001b[1;32m    <a href='file:///home/metin/env/3104/lib/python3.10/site-packages/pyomo/core/base/constraint.py?line=775'>776</a>\u001b[0m \u001b[39m    Return data that will be printed for this component.\u001b[39;00m\n\u001b[1;32m    <a href='file:///home/metin/env/3104/lib/python3.10/site-packages/pyomo/core/base/constraint.py?line=776'>777</a>\u001b[0m \u001b[39m    \"\"\"\u001b[39;00m\n\u001b[1;32m    <a href='file:///home/metin/env/3104/lib/python3.10/site-packages/pyomo/core/base/constraint.py?line=777'>778</a>\u001b[0m     \u001b[39mreturn\u001b[39;00m (\n\u001b[1;32m    <a href='file:///home/metin/env/3104/lib/python3.10/site-packages/pyomo/core/base/constraint.py?line=778'>779</a>\u001b[0m         [(\u001b[39m\"\u001b[39m\u001b[39mSize\u001b[39m\u001b[39m\"\u001b[39m, \u001b[39mlen\u001b[39m(\u001b[39mself\u001b[39m)),\n\u001b[1;32m    <a href='file:///home/metin/env/3104/lib/python3.10/site-packages/pyomo/core/base/constraint.py?line=779'>780</a>\u001b[0m          (\u001b[39m\"\u001b[39m\u001b[39mIndex\u001b[39m\u001b[39m\"\u001b[39m, \u001b[39mself\u001b[39m\u001b[39m.\u001b[39m_index_set \u001b[39mif\u001b[39;00m \u001b[39mself\u001b[39m\u001b[39m.\u001b[39mis_indexed() \u001b[39melse\u001b[39;00m \u001b[39mNone\u001b[39;00m),\n\u001b[1;32m    <a href='file:///home/metin/env/3104/lib/python3.10/site-packages/pyomo/core/base/constraint.py?line=780'>781</a>\u001b[0m          (\u001b[39m\"\u001b[39m\u001b[39mActive\u001b[39m\u001b[39m\"\u001b[39m, \u001b[39mself\u001b[39m\u001b[39m.\u001b[39mactive),\n\u001b[1;32m    <a href='file:///home/metin/env/3104/lib/python3.10/site-packages/pyomo/core/base/constraint.py?line=781'>782</a>\u001b[0m          ],\n\u001b[0;32m--> <a href='file:///home/metin/env/3104/lib/python3.10/site-packages/pyomo/core/base/constraint.py?line=782'>783</a>\u001b[0m         \u001b[39mself\u001b[39;49m\u001b[39m.\u001b[39;49mitems(),\n\u001b[1;32m    <a href='file:///home/metin/env/3104/lib/python3.10/site-packages/pyomo/core/base/constraint.py?line=783'>784</a>\u001b[0m         ( \u001b[39m\"\u001b[39m\u001b[39mLower\u001b[39m\u001b[39m\"\u001b[39m,\u001b[39m\"\u001b[39m\u001b[39mBody\u001b[39m\u001b[39m\"\u001b[39m,\u001b[39m\"\u001b[39m\u001b[39mUpper\u001b[39m\u001b[39m\"\u001b[39m,\u001b[39m\"\u001b[39m\u001b[39mActive\u001b[39m\u001b[39m\"\u001b[39m ),\n\u001b[1;32m    <a href='file:///home/metin/env/3104/lib/python3.10/site-packages/pyomo/core/base/constraint.py?line=784'>785</a>\u001b[0m         \u001b[39mlambda\u001b[39;00m k, v: [ \u001b[39m\"\u001b[39m\u001b[39m-Inf\u001b[39m\u001b[39m\"\u001b[39m \u001b[39mif\u001b[39;00m v\u001b[39m.\u001b[39mlower \u001b[39mis\u001b[39;00m \u001b[39mNone\u001b[39;00m \u001b[39melse\u001b[39;00m v\u001b[39m.\u001b[39mlower,\n\u001b[1;32m    <a href='file:///home/metin/env/3104/lib/python3.10/site-packages/pyomo/core/base/constraint.py?line=785'>786</a>\u001b[0m                        v\u001b[39m.\u001b[39mbody,\n\u001b[1;32m    <a href='file:///home/metin/env/3104/lib/python3.10/site-packages/pyomo/core/base/constraint.py?line=786'>787</a>\u001b[0m                        \u001b[39m\"\u001b[39m\u001b[39m+Inf\u001b[39m\u001b[39m\"\u001b[39m \u001b[39mif\u001b[39;00m v\u001b[39m.\u001b[39mupper \u001b[39mis\u001b[39;00m \u001b[39mNone\u001b[39;00m \u001b[39melse\u001b[39;00m v\u001b[39m.\u001b[39mupper,\n\u001b[1;32m    <a href='file:///home/metin/env/3104/lib/python3.10/site-packages/pyomo/core/base/constraint.py?line=787'>788</a>\u001b[0m                        v\u001b[39m.\u001b[39mactive,\n\u001b[1;32m    <a href='file:///home/metin/env/3104/lib/python3.10/site-packages/pyomo/core/base/constraint.py?line=788'>789</a>\u001b[0m                        ]\n\u001b[1;32m    <a href='file:///home/metin/env/3104/lib/python3.10/site-packages/pyomo/core/base/constraint.py?line=789'>790</a>\u001b[0m         )\n",
      "File \u001b[0;32m~/env/3104/lib/python3.10/site-packages/pyomo/core/base/indexed_component.py:498\u001b[0m, in \u001b[0;36mIndexedComponent.items\u001b[0;34m(self, ordered)\u001b[0m\n\u001b[1;32m    <a href='file:///home/metin/env/3104/lib/python3.10/site-packages/pyomo/core/base/indexed_component.py?line=486'>487</a>\u001b[0m \u001b[39mdef\u001b[39;00m \u001b[39mitems\u001b[39m(\u001b[39mself\u001b[39m, ordered\u001b[39m=\u001b[39m\u001b[39mFalse\u001b[39;00m):\n\u001b[1;32m    <a href='file:///home/metin/env/3104/lib/python3.10/site-packages/pyomo/core/base/indexed_component.py?line=487'>488</a>\u001b[0m     \u001b[39m\"\"\"Return an iterator of (index,data) component data tuples\u001b[39;00m\n\u001b[1;32m    <a href='file:///home/metin/env/3104/lib/python3.10/site-packages/pyomo/core/base/indexed_component.py?line=488'>489</a>\u001b[0m \n\u001b[1;32m    <a href='file:///home/metin/env/3104/lib/python3.10/site-packages/pyomo/core/base/indexed_component.py?line=489'>490</a>\u001b[0m \u001b[39m    Parameters\u001b[39;00m\n\u001b[0;32m   (...)\u001b[0m\n\u001b[1;32m    <a href='file:///home/metin/env/3104/lib/python3.10/site-packages/pyomo/core/base/indexed_component.py?line=495'>496</a>\u001b[0m \u001b[39m        :py:func:`sorted_robust`.\u001b[39;00m\n\u001b[1;32m    <a href='file:///home/metin/env/3104/lib/python3.10/site-packages/pyomo/core/base/indexed_component.py?line=496'>497</a>\u001b[0m \u001b[39m    \"\"\"\u001b[39;00m\n\u001b[0;32m--> <a href='file:///home/metin/env/3104/lib/python3.10/site-packages/pyomo/core/base/indexed_component.py?line=497'>498</a>\u001b[0m     \u001b[39mreturn\u001b[39;00m((s, \u001b[39mself\u001b[39m[s]) \u001b[39mfor\u001b[39;00m s \u001b[39min\u001b[39;00m \u001b[39mself\u001b[39;49m\u001b[39m.\u001b[39;49mkeys(ordered))\n",
      "File \u001b[0;32m~/env/3104/lib/python3.10/site-packages/pyomo/core/base/indexed_component.py:417\u001b[0m, in \u001b[0;36mIndexedComponent.keys\u001b[0;34m(self, ordered)\u001b[0m\n\u001b[1;32m    <a href='file:///home/metin/env/3104/lib/python3.10/site-packages/pyomo/core/base/indexed_component.py?line=414'>415</a>\u001b[0m \u001b[39melif\u001b[39;00m \u001b[39mself\u001b[39m\u001b[39m.\u001b[39mis_reference():\n\u001b[1;32m    <a href='file:///home/metin/env/3104/lib/python3.10/site-packages/pyomo/core/base/indexed_component.py?line=415'>416</a>\u001b[0m     ans \u001b[39m=\u001b[39m \u001b[39mself\u001b[39m\u001b[39m.\u001b[39m_data\u001b[39m.\u001b[39m\u001b[39m__iter__\u001b[39m()\n\u001b[0;32m--> <a href='file:///home/metin/env/3104/lib/python3.10/site-packages/pyomo/core/base/indexed_component.py?line=416'>417</a>\u001b[0m \u001b[39melif\u001b[39;00m \u001b[39mlen\u001b[39m(\u001b[39mself\u001b[39m) \u001b[39m==\u001b[39m \u001b[39mlen\u001b[39;49m(\u001b[39mself\u001b[39;49m\u001b[39m.\u001b[39;49m_index_set):\n\u001b[1;32m    <a href='file:///home/metin/env/3104/lib/python3.10/site-packages/pyomo/core/base/indexed_component.py?line=417'>418</a>\u001b[0m     \u001b[39m#\u001b[39;00m\n\u001b[1;32m    <a href='file:///home/metin/env/3104/lib/python3.10/site-packages/pyomo/core/base/indexed_component.py?line=418'>419</a>\u001b[0m     \u001b[39m# If the data is dense then return the index iterator.\u001b[39;00m\n\u001b[1;32m    <a href='file:///home/metin/env/3104/lib/python3.10/site-packages/pyomo/core/base/indexed_component.py?line=419'>420</a>\u001b[0m     \u001b[39m#\u001b[39;00m\n\u001b[1;32m    <a href='file:///home/metin/env/3104/lib/python3.10/site-packages/pyomo/core/base/indexed_component.py?line=420'>421</a>\u001b[0m     ans \u001b[39m=\u001b[39m \u001b[39mself\u001b[39m\u001b[39m.\u001b[39m_index_set\u001b[39m.\u001b[39m\u001b[39m__iter__\u001b[39m()\n\u001b[1;32m    <a href='file:///home/metin/env/3104/lib/python3.10/site-packages/pyomo/core/base/indexed_component.py?line=421'>422</a>\u001b[0m     \u001b[39mif\u001b[39;00m ordered \u001b[39mand\u001b[39;00m \u001b[39mself\u001b[39m\u001b[39m.\u001b[39m_index_set\u001b[39m.\u001b[39misordered():\n\u001b[1;32m    <a href='file:///home/metin/env/3104/lib/python3.10/site-packages/pyomo/core/base/indexed_component.py?line=422'>423</a>\u001b[0m         \u001b[39m# As this iterator is ordered, we do not need to sort it\u001b[39;00m\n",
      "File \u001b[0;32m~/env/3104/lib/python3.10/site-packages/pyomo/core/base/set.py:3944\u001b[0m, in \u001b[0;36mSetProduct_FiniteSet.__len__\u001b[0;34m(self)\u001b[0m\n\u001b[1;32m   <a href='file:///home/metin/env/3104/lib/python3.10/site-packages/pyomo/core/base/set.py?line=3941'>3942</a>\u001b[0m ans \u001b[39m=\u001b[39m \u001b[39m1\u001b[39m\n\u001b[1;32m   <a href='file:///home/metin/env/3104/lib/python3.10/site-packages/pyomo/core/base/set.py?line=3942'>3943</a>\u001b[0m \u001b[39mfor\u001b[39;00m s \u001b[39min\u001b[39;00m \u001b[39mself\u001b[39m\u001b[39m.\u001b[39m_sets:\n\u001b[0;32m-> <a href='file:///home/metin/env/3104/lib/python3.10/site-packages/pyomo/core/base/set.py?line=3943'>3944</a>\u001b[0m     ans \u001b[39m*\u001b[39m\u001b[39m=\u001b[39m \u001b[39mmax\u001b[39m(\u001b[39m0\u001b[39m, \u001b[39mlen\u001b[39;49m(s))\n\u001b[1;32m   <a href='file:///home/metin/env/3104/lib/python3.10/site-packages/pyomo/core/base/set.py?line=3944'>3945</a>\u001b[0m \u001b[39mreturn\u001b[39;00m ans\n",
      "File \u001b[0;32m<string>:2\u001b[0m, in \u001b[0;36m__len__\u001b[0;34m(self)\u001b[0m\n",
      "\u001b[0;31mRuntimeError\u001b[0m: Cannot access '__len__' on AbstractOrderedScalarSet 'j' before it has been constructed (initialized): '__len__' is an attribute on an Abstract component and cannot be accessed until the component has been fully constructed (converted to a Concrete component) using AbstractModel.create_instance() or j.construct()."
     ]
    }
   ],
   "source": [
    "model.pprint()"
   ]
  },
  {
   "cell_type": "code",
   "execution_count": null,
   "metadata": {},
   "outputs": [],
   "source": []
  }
 ],
 "metadata": {
  "kernelspec": {
   "display_name": "Python 3.10.4 ('3104')",
   "language": "python",
   "name": "python3"
  },
  "language_info": {
   "codemirror_mode": {
    "name": "ipython",
    "version": 3
   },
   "file_extension": ".py",
   "mimetype": "text/x-python",
   "name": "python",
   "nbconvert_exporter": "python",
   "pygments_lexer": "ipython3",
   "version": "3.10.5"
  },
  "orig_nbformat": 4,
  "vscode": {
   "interpreter": {
    "hash": "2fccfef6de30eb59767b31244f817a0196d64b5e43793416edf849b4402a2f8d"
   }
  }
 },
 "nbformat": 4,
 "nbformat_minor": 2
}
