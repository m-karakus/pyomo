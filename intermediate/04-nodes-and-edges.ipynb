{
 "cells": [
  {
   "cell_type": "code",
   "execution_count": null,
   "metadata": {},
   "outputs": [],
   "source": [
    "import itertools\n",
    "import traceback\n",
    "\n",
    "import networkx as nx\n",
    "import numpy as np\n",
    "import pandas as pd\n",
    "import pyomo.environ as pe"
   ]
  },
  {
   "cell_type": "markdown",
   "metadata": {},
   "source": [
    "# Data Synthesis\n",
    "\n",
    "First, we construct a random graph. The specified seed yields a fully connected graph."
   ]
  },
  {
   "cell_type": "code",
   "execution_count": null,
   "metadata": {},
   "outputs": [],
   "source": [
    "N = 6\n",
    "p = 0.50\n",
    "graph = nx.erdos_renyi_graph(N, p, seed=42, directed=True)\n",
    "nx.draw_networkx(graph)"
   ]
  },
  {
   "cell_type": "code",
   "execution_count": null,
   "metadata": {},
   "outputs": [],
   "source": [
    "data = {}\n",
    "np.random.seed(100)\n",
    "for edge in graph.edges():\n",
    "    data[edge] = {'weight': np.random.geometric(0.5)}"
   ]
  },
  {
   "cell_type": "code",
   "execution_count": null,
   "metadata": {},
   "outputs": [],
   "source": [
    "df = pd.DataFrame.from_dict(data, orient='index')\n",
    "df.index.names = ['i', 'j']\n",
    "display(df)"
   ]
  },
  {
   "cell_type": "code",
   "execution_count": null,
   "metadata": {},
   "outputs": [],
   "source": [
    "df_cost = df['weight'].reset_index()\\\n",
    "                      .pivot(index='i', columns='j', values='weight')\\\n",
    "                    .  reindex(index=graph.nodes(), columns=graph.nodes())\n",
    "display(df_cost)"
   ]
  },
  {
   "cell_type": "markdown",
   "metadata": {},
   "source": [
    "# Model Setup\n",
    "\n",
    "For the sake of demonstration, we purposely built a graph that is not complete. That way we are forced to consider how to build the edge set (which in a complete graph is just the Cartesian product of the node set with itself, perhaps excluding self-loops)."
   ]
  },
  {
   "cell_type": "markdown",
   "metadata": {},
   "source": [
    "### Attempt 1: Workable, but error prone."
   ]
  },
  {
   "cell_type": "code",
   "execution_count": null,
   "metadata": {},
   "outputs": [],
   "source": [
    "nodes = set(itertools.chain(*df.index))\n",
    "\n",
    "model = pe.ConcreteModel()\n",
    "model.nodes = pe.Set(initialize=nodes)\n",
    "# initialize as Cartesian product of node set with itself\n",
    "model.edges = pe.Set(initialize=model.nodes*model.nodes)"
   ]
  },
  {
   "cell_type": "code",
   "execution_count": null,
   "metadata": {},
   "outputs": [],
   "source": [
    "len(model.edges)"
   ]
  },
  {
   "cell_type": "markdown",
   "metadata": {},
   "source": [
    "### Attempt 2: Incorrect."
   ]
  },
  {
   "cell_type": "code",
   "execution_count": null,
   "metadata": {},
   "outputs": [],
   "source": [
    "nodes = set(itertools.chain(*df.index))\n",
    "\n",
    "model = pe.ConcreteModel()\n",
    "model.nodes = pe.Set(initialize=nodes)\n",
    "# declare as a subset of the Cartesian product\n",
    "model.edges = pe.Set(within=model.nodes*model.nodes)"
   ]
  },
  {
   "cell_type": "code",
   "execution_count": null,
   "metadata": {},
   "outputs": [],
   "source": [
    "len(model.edges)"
   ]
  },
  {
   "cell_type": "markdown",
   "metadata": {},
   "source": [
    "### Attempt 3: Correct and more robust than Attempt #1."
   ]
  },
  {
   "cell_type": "code",
   "execution_count": null,
   "metadata": {},
   "outputs": [],
   "source": [
    "nodes = set(itertools.chain(*df.index))\n",
    "edges = set(df.index)\n",
    "\n",
    "model = pe.ConcreteModel()\n",
    "model.nodes = pe.Set(initialize=nodes)\n",
    "# declare as a subset of the Cartesian product, initialize as DataFrame index\n",
    "model.edges = pe.Set(within=model.nodes*model.nodes, initialize=edges)"
   ]
  },
  {
   "cell_type": "code",
   "execution_count": null,
   "metadata": {},
   "outputs": [],
   "source": [
    "len(model.edges)"
   ]
  },
  {
   "cell_type": "markdown",
   "metadata": {},
   "source": [
    "## Why `within`? Free error checking.\n",
    "\n",
    "Here, we see that specifying the `within` keyword for the edge set helps to curate our inputs. To show this, we purposely try to add an edge that is _not_ in the Cartesian product of the node set with itself. Pyomo correctly detects the error and raises an error."
   ]
  },
  {
   "cell_type": "code",
   "execution_count": null,
   "metadata": {},
   "outputs": [],
   "source": [
    "nodes = set(itertools.chain(*df.index))\n",
    "edges = set(df.index.tolist() + [(0, 1234)])\n",
    "\n",
    "model = pe.ConcreteModel()\n",
    "model.nodes = pe.Set(initialize=nodes)\n",
    "\n",
    "try:\n",
    "    model.edges = pe.Set(within=model.nodes*model.nodes, initialize=edges)\n",
    "except ValueError:\n",
    "    traceback.print_exc()"
   ]
  },
  {
   "cell_type": "markdown",
   "metadata": {},
   "source": [
    "Without the `within` keyword, Pyomo will accept virtually any immutable object."
   ]
  },
  {
   "cell_type": "code",
   "execution_count": null,
   "metadata": {},
   "outputs": [],
   "source": [
    "nodes = set(itertools.chain(*df.index))\n",
    "edges = set(df.index.tolist() + [('foo', 'bar')])\n",
    "\n",
    "model = pe.ConcreteModel()\n",
    "model.nodes = pe.Set(initialize=nodes)\n",
    "model.edges = pe.Set(initialize=edges) # no `within` keyword, no sanity check!"
   ]
  },
  {
   "cell_type": "markdown",
   "metadata": {},
   "source": [
    "## Benefits of Importing `dict`-like Data"
   ]
  },
  {
   "cell_type": "code",
   "execution_count": null,
   "metadata": {},
   "outputs": [],
   "source": [
    "nodes = set(itertools.chain(*df.index))\n",
    "\n",
    "model = pe.ConcreteModel()\n",
    "model.nodes = pe.Set(initialize=nodes)\n",
    "model.edges = pe.Set(within=model.nodes*model.nodes, initialize=df.index)\n",
    "# build parameter from table data (nodes * nodes)\n",
    "model.cost = pe.Param(model.edges, initialize=df_cost.stack().to_dict())"
   ]
  },
  {
   "cell_type": "code",
   "execution_count": null,
   "metadata": {},
   "outputs": [],
   "source": [
    "df_cost.stack().to_dict()"
   ]
  },
  {
   "cell_type": "code",
   "execution_count": null,
   "metadata": {},
   "outputs": [],
   "source": [
    "nodes = set(itertools.chain(*df.index))\n",
    "\n",
    "model = pe.ConcreteModel()\n",
    "model.nodes = pe.Set(initialize=nodes)\n",
    "model.edges = pe.Set(within=model.nodes*model.nodes, initialize=df.index)\n",
    "# build parameter from flattened data indexed by edge set\n",
    "model.cost = pe.Param(model.edges, initialize=df['weight'].to_dict())"
   ]
  },
  {
   "cell_type": "code",
   "execution_count": null,
   "metadata": {},
   "outputs": [],
   "source": [
    "df['weight'].to_dict()"
   ]
  },
  {
   "cell_type": "code",
   "execution_count": null,
   "metadata": {},
   "outputs": [],
   "source": [
    "dict(model.cost)"
   ]
  }
 ],
 "metadata": {
  "kernelspec": {
   "display_name": "Python 3.10.4 ('3104')",
   "language": "python",
   "name": "python3"
  },
  "language_info": {
   "codemirror_mode": {
    "name": "ipython",
    "version": 3
   },
   "file_extension": ".py",
   "mimetype": "text/x-python",
   "name": "python",
   "nbconvert_exporter": "python",
   "pygments_lexer": "ipython3",
   "version": "3.10.5"
  },
  "vscode": {
   "interpreter": {
    "hash": "2fccfef6de30eb59767b31244f817a0196d64b5e43793416edf849b4402a2f8d"
   }
  }
 },
 "nbformat": 4,
 "nbformat_minor": 4
}
