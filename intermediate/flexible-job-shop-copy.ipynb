{
 "cells": [
  {
   "cell_type": "code",
   "execution_count": 48,
   "metadata": {},
   "outputs": [],
   "source": [
    "import collections\n",
    "from ortools.sat.python import cp_model"
   ]
  },
  {
   "cell_type": "code",
   "execution_count": 65,
   "metadata": {},
   "outputs": [],
   "source": [
    "class SolutionPrinter(cp_model.CpSolverSolutionCallback):\n",
    "    \"\"\"Print intermediate solutions.\"\"\"\n",
    "    def __init__(self):\n",
    "        cp_model.CpSolverSolutionCallback.__init__(self)\n",
    "        self.__solution_count = 0\n",
    "\n",
    "    def on_solution_callback(self):\n",
    "        \"\"\"Called at each new solution.\"\"\"\n",
    "        print('Solution %i, time = %f s, objective = %i' % (self.__solution_count, self.WallTime(), self.ObjectiveValue()))\n",
    "        self.__solution_count += 1"
   ]
  },
  {
   "cell_type": "code",
   "execution_count": 18,
   "metadata": {},
   "outputs": [],
   "source": [
    "data = {\n",
    "    \"supply_sites\": [\"1\", \"2\", \"3\", \"4\"],\n",
    "    \"demand_sites\": [\"a\", \"b\", \"c\", \"d\", \"e\"],\n",
    "    \"demand_data\": {\n",
    "        \"a\": {\n",
    "            \"task0\": [{\"processing_time\":  4, \"machine_id\":  6, \"due_date\":  9}],\n",
    "            \"task1\": [{\"processing_time\":  4, \"machine_id\":  6, \"due_date\":  9}]\n",
    "        },\n",
    "\n",
    "    }\n",
    "}"
   ]
  },
  {
   "cell_type": "code",
   "execution_count": 23,
   "metadata": {},
   "outputs": [
    {
     "name": "stdout",
     "output_type": "stream",
     "text": [
      "0 {'processing_time': 4, 'machine_id': 6, 'due_date': 9}\n",
      "0 {'processing_time': 4, 'machine_id': 6, 'due_date': 9}\n"
     ]
    }
   ],
   "source": [
    "from pprint import pprint\n",
    "\n",
    "dict_ = data[\"demand_data\"]\n",
    "\n",
    "for index, (key, value) in enumerate(dict_.items()):\n",
    "    for i, (k, v) in enumerate(dict_[key].items()):\n",
    "        for i2, k2 in enumerate(dict_[key][k]):\n",
    "            print(i2, k2)"
   ]
  },
  {
   "cell_type": "code",
   "execution_count": 4,
   "metadata": {},
   "outputs": [
    {
     "ename": "NameError",
     "evalue": "name 'cp_model' is not defined",
     "output_type": "error",
     "traceback": [
      "\u001b[0;31m---------------------------------------------------------------------------\u001b[0m",
      "\u001b[0;31mNameError\u001b[0m                                 Traceback (most recent call last)",
      "\u001b[1;32m/home/metin/codes/pyomo/intermediate/flexible-job-shop.ipynb Cell 5'\u001b[0m in \u001b[0;36m<cell line: 4>\u001b[0;34m()\u001b[0m\n\u001b[1;32m      <a href='vscode-notebook-cell:/home/metin/codes/pyomo/intermediate/flexible-job-shop.ipynb#ch0000002?line=0'>1</a>\u001b[0m \u001b[39m\"\"\"Solve a small flexible jobshop problem.\"\"\"\u001b[39;00m\n\u001b[1;32m      <a href='vscode-notebook-cell:/home/metin/codes/pyomo/intermediate/flexible-job-shop.ipynb#ch0000002?line=2'>3</a>\u001b[0m \u001b[39m# Model the flexible jobshop problem.\u001b[39;00m\n\u001b[0;32m----> <a href='vscode-notebook-cell:/home/metin/codes/pyomo/intermediate/flexible-job-shop.ipynb#ch0000002?line=3'>4</a>\u001b[0m model \u001b[39m=\u001b[39m cp_model\u001b[39m.\u001b[39mCpModel()\n\u001b[1;32m      <a href='vscode-notebook-cell:/home/metin/codes/pyomo/intermediate/flexible-job-shop.ipynb#ch0000002?line=5'>6</a>\u001b[0m \u001b[39m# Data part.\u001b[39;00m\n\u001b[1;32m      <a href='vscode-notebook-cell:/home/metin/codes/pyomo/intermediate/flexible-job-shop.ipynb#ch0000002?line=6'>7</a>\u001b[0m jobs \u001b[39m=\u001b[39m [  \u001b[39m# task = (processing_time, machine_id, due_date)\u001b[39;00m\n\u001b[1;32m      <a href='vscode-notebook-cell:/home/metin/codes/pyomo/intermediate/flexible-job-shop.ipynb#ch0000002?line=7'>8</a>\u001b[0m     [  \u001b[39m# Job 0\u001b[39;00m\n\u001b[1;32m      <a href='vscode-notebook-cell:/home/metin/codes/pyomo/intermediate/flexible-job-shop.ipynb#ch0000002?line=8'>9</a>\u001b[0m         [(\u001b[39m3\u001b[39m, \u001b[39m0\u001b[39m, \u001b[39m40\u001b[39m), (\u001b[39m1\u001b[39m, \u001b[39m1\u001b[39m, \u001b[39m40\u001b[39m), (\u001b[39m5\u001b[39m, \u001b[39m2\u001b[39m, \u001b[39m40\u001b[39m)],  \u001b[39m# task 0 with 3 alternatives\u001b[39;00m\n\u001b[0;32m   (...)\u001b[0m\n\u001b[1;32m     <a href='vscode-notebook-cell:/home/metin/codes/pyomo/intermediate/flexible-job-shop.ipynb#ch0000002?line=22'>23</a>\u001b[0m     ],\n\u001b[1;32m     <a href='vscode-notebook-cell:/home/metin/codes/pyomo/intermediate/flexible-job-shop.ipynb#ch0000002?line=23'>24</a>\u001b[0m ]\n",
      "\u001b[0;31mNameError\u001b[0m: name 'cp_model' is not defined"
     ]
    }
   ],
   "source": [
    "\"\"\"Solve a small flexible jobshop problem.\"\"\"\n",
    "\n",
    "# Model the flexible jobshop problem.\n",
    "model = cp_model.CpModel()\n",
    "\n",
    "# Data part.\n",
    "jobs = [  # task = (processing_time, machine_id, due_date)\n",
    "    [  # Job 0\n",
    "        [(3, 0, 40), (1, 1, 40), (5, 2, 40)],  # task 0 with 3 alternatives\n",
    "        [(2, 0, 40), (4, 1, 40), (6, 2, 40)],  # task 1 with 3 alternatives\n",
    "        [(2, 0, 5), (3, 1, 40), (1, 2, 40)],  # task 2 with 3 alternatives\n",
    "        # [(2, 0, 5), (3, 1, 40)],  # task 2 with 3 alternatives\n",
    "    ],\n",
    "    [  # Job 1\n",
    "        [(2, 0, 40), (3, 1, 40), (4, 2, 40)],\n",
    "        [(1, 0, 40), (5, 1, 40), (4, 2, 40)],\n",
    "        [(2, 0, 40), (1, 1, 40), (4, 2, 40)],\n",
    "    ],\n",
    "    [  # Job 2\n",
    "        [(2, 0, 40), (1, 1, 40), (4, 2, 40)],\n",
    "        [(2, 0, 40), (3, 1, 40), (4, 2, 40)],\n",
    "        [(3, 0, 40), (1, 1, 40), (5, 2, 40)],\n",
    "    ],\n",
    "]\n",
    "\n",
    "\n",
    "num_jobs = len(jobs)\n",
    "all_jobs = range(num_jobs)\n",
    "\n",
    "num_machines = 3\n",
    "all_machines = range(num_machines)\n",
    "\n",
    "\n",
    "\n",
    "horizon = 0\n",
    "for job in jobs:\n",
    "    for task in job:\n",
    "        max_task_duration = 0\n",
    "        for alternative in task:\n",
    "            max_task_duration = max(max_task_duration, alternative[0])\n",
    "        horizon += max_task_duration\n",
    "\n",
    "print('Horizon = %i' % horizon)"
   ]
  },
  {
   "cell_type": "code",
   "execution_count": 67,
   "metadata": {},
   "outputs": [],
   "source": [
    "# Global storage of variables.\n",
    "intervals_per_resources = collections.defaultdict(list)\n",
    "starts = {}  # indexed by (job_id, task_id).\n",
    "ends_ = {}  # indexed by (job_id, task_id).\n",
    "presences = {}  # indexed by (job_id, task_id, alt_id).\n",
    "job_ends = []\n",
    "all_tasks = {}\n",
    "# Named tuple to store information about created variables.\n",
    "task_type = collections.namedtuple('task_type', 'start end deadline interval')\n"
   ]
  },
  {
   "cell_type": "code",
   "execution_count": 68,
   "metadata": {},
   "outputs": [],
   "source": [
    "# Scan the jobs and create the relevant variables and intervals.\n",
    "for job_id in all_jobs:\n",
    "    job = jobs[job_id]\n",
    "    num_tasks = len(job)\n",
    "    previous_end = None\n",
    "    for task_id in range(num_tasks):\n",
    "        task = job[task_id]\n",
    "\n",
    "        min_duration = task[0][0]\n",
    "        max_duration = task[0][0]\n",
    "\n",
    "        num_alternatives = len(task)\n",
    "        all_alternatives = range(num_alternatives)\n",
    "\n",
    "        for alt_id in range(1, num_alternatives):\n",
    "            alt_duration = task[alt_id][0]\n",
    "            min_duration = min(min_duration, alt_duration)\n",
    "            max_duration = max(max_duration, alt_duration)\n",
    "        \n",
    "        deadline = task[0][2]\n",
    "\n",
    "        # Create main interval for the task.\n",
    "        suffix_name = '_j%i_t%i' % (job_id, task_id)\n",
    "        start = model.NewIntVar(0, horizon, 'start' + suffix_name)\n",
    "        duration = model.NewIntVar(min_duration, max_duration,'duration' + suffix_name)\n",
    "        end = model.NewIntVar(0, horizon, 'end' + suffix_name)\n",
    "        interval = model.NewIntervalVar(start, duration, end, 'interval' + suffix_name)\n",
    "\n",
    "        deadline_var = model.NewIntVar(deadline, deadline,'deadline' + suffix_name)\n",
    "        all_tasks[job_id, task_id] = task_type(start=start, end=end, deadline=deadline_var, interval=interval)\n",
    "\n",
    "\n",
    "        # Store the start for the solution.\n",
    "        starts[(job_id, task_id)] = start\n",
    "\n",
    "        # Store the end for the solution. ## Metin\n",
    "        ends_[(job_id, task_id)] = end\n",
    "\n",
    "        # Add precedence with previous task in the same job.\n",
    "        if previous_end is not None:\n",
    "            model.Add(start >= previous_end)\n",
    "        previous_end = end\n",
    "\n",
    "        # Create alternative intervals.\n",
    "        if num_alternatives > 1:\n",
    "            l_presences = []\n",
    "            for alt_id in all_alternatives:\n",
    "                alt_suffix = '_j%i_t%i_a%i' % (job_id, task_id, alt_id)\n",
    "                l_presence = model.NewBoolVar('presence' + alt_suffix)\n",
    "                l_start = model.NewIntVar(0, horizon, 'start' + alt_suffix)\n",
    "                l_duration = task[alt_id][0]\n",
    "                l_end = model.NewIntVar(0, horizon, 'end' + alt_suffix)\n",
    "                l_interval = model.NewOptionalIntervalVar(l_start, l_duration, l_end, l_presence, 'interval' + alt_suffix)\n",
    "                l_presences.append(l_presence)\n",
    "\n",
    "                # Link the master variables with the local ones.\n",
    "                model.Add(start == l_start).OnlyEnforceIf(l_presence)\n",
    "                model.Add(duration == l_duration).OnlyEnforceIf(l_presence)\n",
    "                model.Add(end == l_end).OnlyEnforceIf(l_presence)\n",
    "\n",
    "                # Add the local interval to the right machine.\n",
    "                intervals_per_resources[task[alt_id][1]].append(l_interval)\n",
    "\n",
    "                # Store the presences for the solution.\n",
    "                presences[(job_id, task_id, alt_id)] = l_presence\n",
    "\n",
    "            # Select exactly one presence variable.\n",
    "            model.AddExactlyOne(l_presences)\n",
    "        else:\n",
    "            intervals_per_resources[task[0][1]].append(interval)\n",
    "            presences[(job_id, task_id, 0)] = model.NewConstant(1)\n",
    "\n",
    "    job_ends.append(previous_end)"
   ]
  },
  {
   "cell_type": "code",
   "execution_count": 69,
   "metadata": {},
   "outputs": [],
   "source": [
    "# deadline\n",
    "for job_id, job in enumerate(jobs):\n",
    "    for task_id, task in enumerate(job):\n",
    "        model.Add(all_tasks[job_id, task_id].end <= all_tasks[job_id, task_id].deadline)"
   ]
  },
  {
   "cell_type": "code",
   "execution_count": 70,
   "metadata": {},
   "outputs": [],
   "source": [
    "# Create machines constraints.\n",
    "for machine_id in all_machines:\n",
    "    intervals = intervals_per_resources[machine_id]\n",
    "    if len(intervals) > 1:\n",
    "        model.AddNoOverlap(intervals)"
   ]
  },
  {
   "cell_type": "code",
   "execution_count": 71,
   "metadata": {},
   "outputs": [
    {
     "name": "stdout",
     "output_type": "stream",
     "text": [
      "Solution 0, time = 0.012499 s, objective = 9\n",
      "Solution 1, time = 0.013771 s, objective = 8\n",
      "Solution 2, time = 0.013956 s, objective = 7\n"
     ]
    }
   ],
   "source": [
    "# Makespan objective\n",
    "makespan = model.NewIntVar(0, horizon, 'makespan')\n",
    "model.AddMaxEquality(makespan, job_ends)\n",
    "model.Minimize(makespan)\n",
    "\n",
    "# Solve model.\n",
    "solver = cp_model.CpSolver()\n",
    "solution_printer = SolutionPrinter()\n",
    "status = solver.Solve(model, solution_printer)"
   ]
  },
  {
   "cell_type": "code",
   "execution_count": 72,
   "metadata": {},
   "outputs": [
    {
     "name": "stdout",
     "output_type": "stream",
     "text": [
      "Job 0:\n",
      "  task_0_0 starts at 0 (alt 1, machine 1, duration 1)\n",
      "  task_0_1 starts at 1 (alt 0, machine 0, duration 2)\n",
      "  task_0_2 starts at 3 (alt 0, machine 0, duration 2)\n",
      "Job 1:\n",
      "  task_1_0 starts at 0 (alt 2, machine 2, duration 4)\n",
      "  task_1_1 starts at 5 (alt 0, machine 0, duration 1)\n",
      "  task_1_2 starts at 6 (alt 1, machine 1, duration 1)\n",
      "Job 2:\n",
      "  task_2_0 starts at 1 (alt 1, machine 1, duration 1)\n",
      "  task_2_1 starts at 2 (alt 1, machine 1, duration 3)\n",
      "  task_2_2 starts at 5 (alt 1, machine 1, duration 1)\n",
      "Solve status: OPTIMAL\n",
      "Optimal objective value: 7\n",
      "Statistics\n",
      "  - conflicts : 0\n",
      "  - branches  : 72\n",
      "  - wall time : 0.018438 s\n"
     ]
    }
   ],
   "source": [
    "# Print final solution.\n",
    "for job_id in all_jobs:\n",
    "    print('Job %i:' % job_id)\n",
    "    for task_id in range(len(jobs[job_id])):\n",
    "        start_value = solver.Value(starts[(job_id, task_id)])\n",
    "        machine = -1\n",
    "        duration = -1\n",
    "        selected = -1\n",
    "        for alt_id in range(len(jobs[job_id][task_id])):\n",
    "            if solver.Value(presences[(job_id, task_id, alt_id)]):\n",
    "                duration = jobs[job_id][task_id][alt_id][0]\n",
    "                machine = jobs[job_id][task_id][alt_id][1]\n",
    "                selected = alt_id\n",
    "        print(\n",
    "            '  task_%i_%i starts at %i (alt %i, machine %i, duration %i)' %\n",
    "            (job_id, task_id, start_value, selected, machine, duration))\n",
    "\n",
    "print('Solve status: %s' % solver.StatusName(status))\n",
    "print('Optimal objective value: %i' % solver.ObjectiveValue())\n",
    "print('Statistics')\n",
    "print('  - conflicts : %i' % solver.NumConflicts())\n",
    "print('  - branches  : %i' % solver.NumBranches())\n",
    "print('  - wall time : %f s' % solver.WallTime())"
   ]
  },
  {
   "cell_type": "code",
   "execution_count": null,
   "metadata": {},
   "outputs": [],
   "source": [
    "\"\"\"\n",
    "Job 0:\n",
    "  task_0_0 starts at 2 (alt 1, machine 1, duration 1)\n",
    "  task_0_1 starts at 3 (alt 0, machine 0, duration 2)\n",
    "  task_0_2 starts at 5 (alt 2, machine 2, duration 1)\n",
    "Job 1:\n",
    "  task_1_0 starts at 0 (alt 0, machine 0, duration 2)\n",
    "  task_1_1 starts at 2 (alt 0, machine 0, duration 1)\n",
    "  task_1_2 starts at 4 (alt 1, machine 1, duration 1)\n",
    "Job 2:\n",
    "  task_2_0 starts at 0 (alt 1, machine 1, duration 1)\n",
    "  task_2_1 starts at 1 (alt 2, machine 2, duration 4)\n",
    "  task_2_2 starts at 5 (alt 1, machine 1, duration 1)\n",
    "Solve status: OPTIMAL\n",
    "Optimal objective value: 6\n",
    "Statistics\n",
    "  - conflicts : 0\n",
    "  - branches  : 108\n",
    "  - wall time : 0.017853 s\n",
    "\"\"\""
   ]
  }
 ],
 "metadata": {
  "kernelspec": {
   "display_name": "Python 3.10.5 ('3104')",
   "language": "python",
   "name": "python3"
  },
  "language_info": {
   "codemirror_mode": {
    "name": "ipython",
    "version": 3
   },
   "file_extension": ".py",
   "mimetype": "text/x-python",
   "name": "python",
   "nbconvert_exporter": "python",
   "pygments_lexer": "ipython3",
   "version": "3.10.5"
  },
  "orig_nbformat": 4,
  "vscode": {
   "interpreter": {
    "hash": "2fccfef6de30eb59767b31244f817a0196d64b5e43793416edf849b4402a2f8d"
   }
  }
 },
 "nbformat": 4,
 "nbformat_minor": 2
}
