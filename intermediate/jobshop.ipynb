{
 "cells": [
  {
   "cell_type": "code",
   "execution_count": 1,
   "metadata": {},
   "outputs": [],
   "source": [
    "\"\"\"Minimal jobshop example.\"\"\"\n",
    "import collections\n",
    "from ortools.sat.python import cp_model"
   ]
  },
  {
   "cell_type": "code",
   "execution_count": 2,
   "metadata": {},
   "outputs": [
    {
     "name": "stdout",
     "output_type": "stream",
     "text": [
      "[[(0, 3), (1, 2), (2, 2)], [(0, 2), (2, 1), (1, 4)], [(1, 4), (2, 3)]]\n"
     ]
    }
   ],
   "source": [
    "\"\"\"Minimal jobshop problem.\"\"\"\n",
    "# Data.\n",
    "jobs_data = [  # task = (machine_id, processing_time).\n",
    "    [(0, 3), (1, 2), (2, 2)],  # Job0\n",
    "    [(0, 2), (2, 1), (1, 4)],  # Job1\n",
    "    [(1, 4), (2, 3)]  # Job2\n",
    "]\n",
    "\n",
    "print(jobs_data)"
   ]
  },
  {
   "cell_type": "code",
   "execution_count": 3,
   "metadata": {},
   "outputs": [
    {
     "name": "stdout",
     "output_type": "stream",
     "text": [
      "machines_count: 3\n",
      "all_machines: range(0, 3)\n",
      "horizon: 21\n"
     ]
    }
   ],
   "source": [
    "machines_count = 1 + max(task[0] for job in jobs_data for task in job)\n",
    "print(\"machines_count:\", machines_count)\n",
    "\n",
    "all_machines = range(machines_count)\n",
    "print(\"all_machines:\", all_machines)\n",
    "\n",
    "# Computes horizon dynamically as the sum of all durations.\n",
    "horizon = sum(task[1] for job in jobs_data for task in job)\n",
    "print(\"horizon:\", horizon)"
   ]
  },
  {
   "cell_type": "code",
   "execution_count": 4,
   "metadata": {},
   "outputs": [],
   "source": [
    "# Create the model.\n",
    "model = cp_model.CpModel()\n",
    "\n",
    "# Named tuple to store information about created variables.\n",
    "task_type = collections.namedtuple('task_type', 'start end interval')\n",
    "\n",
    "# Named tuple to manipulate solution information.\n",
    "assigned_task_type = collections.namedtuple('assigned_task_type','start job index duration')\n",
    "\n",
    "# Creates job intervals and add to the corresponding machine lists.\n",
    "all_tasks = {}\n",
    "machine_to_intervals = collections.defaultdict(list)"
   ]
  },
  {
   "cell_type": "code",
   "execution_count": 5,
   "metadata": {},
   "outputs": [],
   "source": [
    "for job_id, job in enumerate(jobs_data):\n",
    "    for task_id, task in enumerate(job):\n",
    "        machine = task[0]\n",
    "        duration = task[1]\n",
    "        suffix = '_job%i_task%i' % (job_id, task_id)\n",
    "        start_var = model.NewIntVar(0, horizon, 'start' + suffix)\n",
    "        end_var = model.NewIntVar(0, horizon, 'end' + suffix)\n",
    "        interval_var = model.NewIntervalVar(start_var, duration, end_var,'interval' + suffix)\n",
    "        all_tasks[job_id, task_id] = task_type(start=start_var,end=end_var,interval=interval_var)\n",
    "        machine_to_intervals[machine].append(interval_var)"
   ]
  },
  {
   "cell_type": "code",
   "execution_count": 6,
   "metadata": {},
   "outputs": [
    {
     "name": "stdout",
     "output_type": "stream",
     "text": [
      "[interval_job0_task0(start = start_job0_task0, size = 3, end = end_job0_task0), interval_job1_task0(start = start_job1_task0, size = 2, end = end_job1_task0)]\n"
     ]
    }
   ],
   "source": [
    "print(machine_to_intervals[0])\n",
    "# print(all_machines)"
   ]
  },
  {
   "cell_type": "code",
   "execution_count": 7,
   "metadata": {},
   "outputs": [],
   "source": [
    "# Create and add disjunctive constraints. bir makinede aynı zamanda 1 den fazla çalışma olmamalı\n",
    "for machine in all_machines:\n",
    "    model.AddNoOverlap(machine_to_intervals[machine])"
   ]
  },
  {
   "cell_type": "code",
   "execution_count": 8,
   "metadata": {},
   "outputs": [],
   "source": [
    "# Precedences inside a job. task start bir onceki task bitince başlamalı\n",
    "for job_id, job in enumerate(jobs_data):\n",
    "    for task_id in range(len(job) - 1):\n",
    "        model.Add(all_tasks[job_id, task_id + 1].start >= all_tasks[job_id, task_id].end)"
   ]
  },
  {
   "cell_type": "code",
   "execution_count": 9,
   "metadata": {},
   "outputs": [
    {
     "name": "stdout",
     "output_type": "stream",
     "text": [
      "(0, 0) task_type(start=start_job0_task0(0..21), end=end_job0_task0(0..21), interval=interval_job0_task0(start = start_job0_task0, size = 3, end = end_job0_task0))\n",
      "(0, 1) task_type(start=start_job0_task1(0..21), end=end_job0_task1(0..21), interval=interval_job0_task1(start = start_job0_task1, size = 2, end = end_job0_task1))\n",
      "(0, 2) task_type(start=start_job0_task2(0..21), end=end_job0_task2(0..21), interval=interval_job0_task2(start = start_job0_task2, size = 2, end = end_job0_task2))\n",
      "(1, 0) task_type(start=start_job1_task0(0..21), end=end_job1_task0(0..21), interval=interval_job1_task0(start = start_job1_task0, size = 2, end = end_job1_task0))\n",
      "(1, 1) task_type(start=start_job1_task1(0..21), end=end_job1_task1(0..21), interval=interval_job1_task1(start = start_job1_task1, size = 1, end = end_job1_task1))\n",
      "(1, 2) task_type(start=start_job1_task2(0..21), end=end_job1_task2(0..21), interval=interval_job1_task2(start = start_job1_task2, size = 4, end = end_job1_task2))\n",
      "(2, 0) task_type(start=start_job2_task0(0..21), end=end_job2_task0(0..21), interval=interval_job2_task0(start = start_job2_task0, size = 4, end = end_job2_task0))\n",
      "(2, 1) task_type(start=start_job2_task1(0..21), end=end_job2_task1(0..21), interval=interval_job2_task1(start = start_job2_task1, size = 3, end = end_job2_task1))\n"
     ]
    }
   ],
   "source": [
    "for key, value in all_tasks.items() :\n",
    "    print (key, value)"
   ]
  },
  {
   "cell_type": "code",
   "execution_count": 10,
   "metadata": {},
   "outputs": [],
   "source": [
    "# Makespan objective.\n",
    "obj_var = model.NewIntVar(0, horizon, 'makespan')\n",
    "model.AddMaxEquality(obj_var, [all_tasks[job_id, len(job) - 1].end for job_id, job in enumerate(jobs_data)])\n",
    "model.Minimize(obj_var)"
   ]
  },
  {
   "cell_type": "code",
   "execution_count": 11,
   "metadata": {},
   "outputs": [],
   "source": [
    "# Creates the solver and solve.\n",
    "solver = cp_model.CpSolver()\n",
    "status = solver.Solve(model)\n"
   ]
  },
  {
   "cell_type": "code",
   "execution_count": 12,
   "metadata": {},
   "outputs": [
    {
     "name": "stdout",
     "output_type": "stream",
     "text": [
      "Solution:\n",
      "Optimal Schedule Length: 11.0\n",
      "Machine 0: job_1_task_0   job_0_task_0   \n",
      "           [0,2]          [2,5]          \n",
      "Machine 1: job_2_task_0   job_0_task_1   job_1_task_2   \n",
      "           [0,4]          [5,7]          [7,11]         \n",
      "Machine 2: job_1_task_1   job_2_task_1   job_0_task_2   \n",
      "           [2,3]          [4,7]          [7,9]          \n",
      "\n",
      "\n",
      "Statistics\n",
      "  - conflicts: 0\n",
      "  - branches : 0\n",
      "  - wall time: 0.018869 s\n"
     ]
    }
   ],
   "source": [
    "if status == cp_model.OPTIMAL or status == cp_model.FEASIBLE:\n",
    "    print('Solution:')\n",
    "    # Create one list of assigned tasks per machine.\n",
    "    assigned_jobs = collections.defaultdict(list)\n",
    "    for job_id, job in enumerate(jobs_data):\n",
    "        for task_id, task in enumerate(job):\n",
    "            machine = task[0]\n",
    "            assigned_jobs[machine].append(\n",
    "                assigned_task_type(start=solver.Value(all_tasks[job_id, task_id].start),job=job_id,index=task_id,duration=task[1]))\n",
    "\n",
    "    # Create per machine output lines.\n",
    "    output = ''\n",
    "    for machine in all_machines:\n",
    "        # Sort by starting time.\n",
    "        assigned_jobs[machine].sort()\n",
    "        sol_line_tasks = 'Machine ' + str(machine) + ': '\n",
    "        sol_line = '           '\n",
    "\n",
    "        for assigned_task in assigned_jobs[machine]:\n",
    "            name = 'job_%i_task_%i' % (assigned_task.job,assigned_task.index)\n",
    "            # Add spaces to output to align columns.\n",
    "            sol_line_tasks += '%-15s' % name\n",
    "\n",
    "            start = assigned_task.start\n",
    "            duration = assigned_task.duration\n",
    "            sol_tmp = '[%i,%i]' % (start, start + duration)\n",
    "            # Add spaces to output to align columns.\n",
    "            sol_line += '%-15s' % sol_tmp\n",
    "\n",
    "        sol_line += '\\n'\n",
    "        sol_line_tasks += '\\n'\n",
    "        output += sol_line_tasks\n",
    "        output += sol_line\n",
    "\n",
    "    # Finally print the solution found.\n",
    "    print(f'Optimal Schedule Length: {solver.ObjectiveValue()}')\n",
    "    print(output)\n",
    "else:\n",
    "    print('No solution found.')\n",
    "\n",
    "# Statistics.\n",
    "print('\\nStatistics')\n",
    "print('  - conflicts: %i' % solver.NumConflicts())\n",
    "print('  - branches : %i' % solver.NumBranches())\n",
    "print('  - wall time: %f s' % solver.WallTime())\n"
   ]
  },
  {
   "cell_type": "code",
   "execution_count": null,
   "metadata": {},
   "outputs": [],
   "source": []
  }
 ],
 "metadata": {
  "kernelspec": {
   "display_name": "Python 3.10.4 ('3104')",
   "language": "python",
   "name": "python3"
  },
  "language_info": {
   "codemirror_mode": {
    "name": "ipython",
    "version": 3
   },
   "file_extension": ".py",
   "mimetype": "text/x-python",
   "name": "python",
   "nbconvert_exporter": "python",
   "pygments_lexer": "ipython3",
   "version": "3.10.5"
  },
  "orig_nbformat": 4,
  "vscode": {
   "interpreter": {
    "hash": "2fccfef6de30eb59767b31244f817a0196d64b5e43793416edf849b4402a2f8d"
   }
  }
 },
 "nbformat": 4,
 "nbformat_minor": 2
}
