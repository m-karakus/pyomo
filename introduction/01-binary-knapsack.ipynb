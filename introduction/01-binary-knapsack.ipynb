{
 "cells": [
  {
   "cell_type": "code",
   "execution_count": 2,
   "metadata": {},
   "outputs": [],
   "source": [
    "import pyomo.environ as pe\n",
    "import pyomo.opt as po"
   ]
  },
  {
   "cell_type": "code",
   "execution_count": 3,
   "metadata": {},
   "outputs": [],
   "source": [
    "solver = po.SolverFactory('glpk') # GNU Linear Programming Kit"
   ]
  },
  {
   "cell_type": "markdown",
   "metadata": {},
   "source": [
    "## Model (Specific)\n",
    "Consider the following binary knapsack instance."
   ]
  },
  {
   "cell_type": "markdown",
   "metadata": {},
   "source": [
    "\\begin{align}\n",
    "    \\text{max}~~  & 3 x_1 + 4 x_2 + 5 x_3 + 8 x_4 + 9 x_5 \\\\\n",
    "    \\text{s.t.}~~ & 2 x_1 + 3 x_2 + 4 x_3 + 7 x_4 + 9 x_5 \\le 20 \\\\\n",
    "                  & x_1, x_2, x_3, x_4, x_5 \\in \\{0, 1\\}\n",
    "\\end{align}"
   ]
  },
  {
   "cell_type": "markdown",
   "metadata": {},
   "source": [
    "## Implement (Specific)"
   ]
  },
  {
   "cell_type": "code",
   "execution_count": 4,
   "metadata": {},
   "outputs": [],
   "source": [
    "model = pe.ConcreteModel()"
   ]
  },
  {
   "cell_type": "code",
   "execution_count": 5,
   "metadata": {},
   "outputs": [],
   "source": [
    "model.x1 = pe.Var(domain=pe.Binary)\n",
    "model.x2 = pe.Var(domain=pe.Binary)\n",
    "model.x3 = pe.Var(domain=pe.Binary)\n",
    "model.x4 = pe.Var(domain=pe.Binary)\n",
    "model.x5 = pe.Var(domain=pe.Binary)"
   ]
  },
  {
   "cell_type": "code",
   "execution_count": 6,
   "metadata": {},
   "outputs": [],
   "source": [
    "obj_expr = 3 * model.x1 + 4 * model.x2 + 5 * model.x3 + 8 * model.x4 + 9 * model.x5\n",
    "model.obj = pe.Objective(sense=pe.maximize, expr=obj_expr)"
   ]
  },
  {
   "cell_type": "code",
   "execution_count": 7,
   "metadata": {},
   "outputs": [],
   "source": [
    "con_expr = 2 * model.x1 + 3 * model.x2 + 4 * model.x3 + 5 * model.x4 + 9 * model.x5 <= 20\n",
    "model.con = pe.Constraint(expr=con_expr)"
   ]
  },
  {
   "cell_type": "markdown",
   "metadata": {},
   "source": [
    "## Solve and Postprocess"
   ]
  },
  {
   "cell_type": "code",
   "execution_count": 8,
   "metadata": {},
   "outputs": [
    {
     "name": "stdout",
     "output_type": "stream",
     "text": [
      "WARNING: Could not locate the 'glpsol' executable, which is required for\n",
      "    solver 'glpk'\n"
     ]
    },
    {
     "ename": "ApplicationError",
     "evalue": "No executable found for solver 'glpk'",
     "output_type": "error",
     "traceback": [
      "\u001b[0;31m---------------------------------------------------------------------------\u001b[0m",
      "\u001b[0;31mApplicationError\u001b[0m                          Traceback (most recent call last)",
      "\u001b[1;32m/home/metin/codes/pyomo/introduction/01-binary-knapsack.ipynb Cell 11'\u001b[0m in \u001b[0;36m<cell line: 1>\u001b[0;34m()\u001b[0m\n\u001b[0;32m----> <a href='vscode-notebook-cell:/home/metin/codes/pyomo/introduction/01-binary-knapsack.ipynb#ch0000010?line=0'>1</a>\u001b[0m result \u001b[39m=\u001b[39m solver\u001b[39m.\u001b[39;49msolve(model, tee\u001b[39m=\u001b[39;49m\u001b[39mTrue\u001b[39;49;00m)\n",
      "File \u001b[0;32m~/env/3104/lib/python3.10/site-packages/pyomo/opt/base/solvers.py:513\u001b[0m, in \u001b[0;36mOptSolver.solve\u001b[0;34m(self, *args, **kwds)\u001b[0m\n\u001b[1;32m    <a href='file:///home/metin/env/3104/lib/python3.10/site-packages/pyomo/opt/base/solvers.py?line=509'>510</a>\u001b[0m \u001b[39mdef\u001b[39;00m \u001b[39msolve\u001b[39m(\u001b[39mself\u001b[39m, \u001b[39m*\u001b[39margs, \u001b[39m*\u001b[39m\u001b[39m*\u001b[39mkwds):\n\u001b[1;32m    <a href='file:///home/metin/env/3104/lib/python3.10/site-packages/pyomo/opt/base/solvers.py?line=510'>511</a>\u001b[0m     \u001b[39m\"\"\" Solve the problem \"\"\"\u001b[39;00m\n\u001b[0;32m--> <a href='file:///home/metin/env/3104/lib/python3.10/site-packages/pyomo/opt/base/solvers.py?line=512'>513</a>\u001b[0m     \u001b[39mself\u001b[39;49m\u001b[39m.\u001b[39;49mavailable(exception_flag\u001b[39m=\u001b[39;49m\u001b[39mTrue\u001b[39;49;00m)\n\u001b[1;32m    <a href='file:///home/metin/env/3104/lib/python3.10/site-packages/pyomo/opt/base/solvers.py?line=513'>514</a>\u001b[0m     \u001b[39m#\u001b[39;00m\n\u001b[1;32m    <a href='file:///home/metin/env/3104/lib/python3.10/site-packages/pyomo/opt/base/solvers.py?line=514'>515</a>\u001b[0m     \u001b[39m# If the inputs are models, then validate that they have been\u001b[39;00m\n\u001b[1;32m    <a href='file:///home/metin/env/3104/lib/python3.10/site-packages/pyomo/opt/base/solvers.py?line=515'>516</a>\u001b[0m     \u001b[39m# constructed! Collect suffix names to try and import from solution.\u001b[39;00m\n\u001b[1;32m    <a href='file:///home/metin/env/3104/lib/python3.10/site-packages/pyomo/opt/base/solvers.py?line=516'>517</a>\u001b[0m     \u001b[39m#\u001b[39;00m\n\u001b[1;32m    <a href='file:///home/metin/env/3104/lib/python3.10/site-packages/pyomo/opt/base/solvers.py?line=517'>518</a>\u001b[0m     \u001b[39mfrom\u001b[39;00m \u001b[39mpyomo\u001b[39;00m\u001b[39m.\u001b[39;00m\u001b[39mcore\u001b[39;00m\u001b[39m.\u001b[39;00m\u001b[39mbase\u001b[39;00m\u001b[39m.\u001b[39;00m\u001b[39mblock\u001b[39;00m \u001b[39mimport\u001b[39;00m _BlockData\n",
      "File \u001b[0;32m~/env/3104/lib/python3.10/site-packages/pyomo/opt/solver/shellcmd.py:129\u001b[0m, in \u001b[0;36mSystemCallSolver.available\u001b[0;34m(self, exception_flag)\u001b[0m\n\u001b[1;32m    <a href='file:///home/metin/env/3104/lib/python3.10/site-packages/pyomo/opt/solver/shellcmd.py?line=126'>127</a>\u001b[0m     \u001b[39mif\u001b[39;00m exception_flag:\n\u001b[1;32m    <a href='file:///home/metin/env/3104/lib/python3.10/site-packages/pyomo/opt/solver/shellcmd.py?line=127'>128</a>\u001b[0m         msg \u001b[39m=\u001b[39m \u001b[39m\"\u001b[39m\u001b[39mNo executable found for solver \u001b[39m\u001b[39m'\u001b[39m\u001b[39m%s\u001b[39;00m\u001b[39m'\u001b[39m\u001b[39m\"\u001b[39m\n\u001b[0;32m--> <a href='file:///home/metin/env/3104/lib/python3.10/site-packages/pyomo/opt/solver/shellcmd.py?line=128'>129</a>\u001b[0m         \u001b[39mraise\u001b[39;00m ApplicationError(msg \u001b[39m%\u001b[39m \u001b[39mself\u001b[39m\u001b[39m.\u001b[39mname)\n\u001b[1;32m    <a href='file:///home/metin/env/3104/lib/python3.10/site-packages/pyomo/opt/solver/shellcmd.py?line=129'>130</a>\u001b[0m     \u001b[39mreturn\u001b[39;00m \u001b[39mFalse\u001b[39;00m\n\u001b[1;32m    <a href='file:///home/metin/env/3104/lib/python3.10/site-packages/pyomo/opt/solver/shellcmd.py?line=130'>131</a>\u001b[0m \u001b[39mreturn\u001b[39;00m \u001b[39mTrue\u001b[39;00m\n",
      "\u001b[0;31mApplicationError\u001b[0m: No executable found for solver 'glpk'"
     ]
    }
   ],
   "source": [
    "result = solver.solve(model, tee=True)"
   ]
  },
  {
   "cell_type": "code",
   "execution_count": null,
   "metadata": {},
   "outputs": [],
   "source": [
    "print(pe.value(model.x1))\n",
    "print(pe.value(model.x2))\n",
    "print(pe.value(model.x3))\n",
    "print(pe.value(model.x4))\n",
    "print(pe.value(model.x5))\n",
    "print(pe.value(model.obj))"
   ]
  },
  {
   "cell_type": "markdown",
   "metadata": {},
   "source": [
    "## Model (General)\n",
    "The best way to use Pyomo is to implement the general form of the problem. The instance above is generalized by the formulation below. The set of items is $N$. The coefficients $c_i$ and $a_i$ are the cost and size, respectively of item $i$."
   ]
  },
  {
   "cell_type": "markdown",
   "metadata": {},
   "source": [
    "\\begin{align}\n",
    "    \\text{max}~~  & \\sum_{i \\in N}{c_i x_i} \\\\\n",
    "    \\text{s.t.}~~ & \\sum_{i \\in N}{a_i x_i} \\le b \\\\\n",
    "                  & x_i \\in \\{0, 1\\}, \\forall i \\in N\n",
    "\\end{align}"
   ]
  },
  {
   "cell_type": "markdown",
   "metadata": {},
   "source": [
    "## Implement (General)"
   ]
  },
  {
   "cell_type": "code",
   "execution_count": null,
   "metadata": {},
   "outputs": [],
   "source": [
    "model = pe.ConcreteModel()"
   ]
  },
  {
   "cell_type": "code",
   "execution_count": null,
   "metadata": {},
   "outputs": [],
   "source": [
    "model.N = pe.RangeSet(1, 5)"
   ]
  },
  {
   "cell_type": "code",
   "execution_count": null,
   "metadata": {},
   "outputs": [],
   "source": [
    "print(set(model.N))"
   ]
  },
  {
   "cell_type": "code",
   "execution_count": null,
   "metadata": {},
   "outputs": [],
   "source": [
    "c = {1: 3, 2: 4, 3: 5, 4: 8, 5: 9}\n",
    "a = {1: 2, 2: 3, 3: 4, 4: 5, 5: 9}\n",
    "b = 20"
   ]
  },
  {
   "cell_type": "code",
   "execution_count": null,
   "metadata": {},
   "outputs": [],
   "source": [
    "model.c = pe.Param(model.N, initialize=c)\n",
    "model.a = pe.Param(model.N, initialize=a)\n",
    "model.b = pe.Param(initialize=b)"
   ]
  },
  {
   "cell_type": "markdown",
   "metadata": {},
   "source": [
    "For most model components, `print(model.component)` will print the name of the component (a string) and not the value (in most cases, a number)."
   ]
  },
  {
   "cell_type": "code",
   "execution_count": null,
   "metadata": {},
   "outputs": [],
   "source": [
    "print(model.c)\n",
    "print(model.c[2])\n",
    "print(model.b)\n",
    "print(model.b.value)\n",
    "print(pe.value(model.b))"
   ]
  },
  {
   "cell_type": "code",
   "execution_count": null,
   "metadata": {},
   "outputs": [],
   "source": [
    "model.x = pe.Var(model.N, domain=pe.Binary)"
   ]
  },
  {
   "cell_type": "code",
   "execution_count": null,
   "metadata": {},
   "outputs": [],
   "source": [
    "obj_expr = sum(model.c[i] * model.x[i] for i in model.N)\n",
    "model.obj = pe.Objective(sense=pe.maximize, expr=obj_expr)"
   ]
  },
  {
   "cell_type": "code",
   "execution_count": null,
   "metadata": {},
   "outputs": [],
   "source": [
    "con_lhs_expr = sum(model.a[i] * model.x[i] for i in model.N)\n",
    "con_rhs_expr = model.b\n",
    "model.con = pe.Constraint(expr=(con_lhs_expr <= con_rhs_expr))"
   ]
  },
  {
   "cell_type": "code",
   "execution_count": null,
   "metadata": {},
   "outputs": [],
   "source": [
    "result = solver.solve(model)"
   ]
  },
  {
   "cell_type": "markdown",
   "metadata": {},
   "source": [
    "After solving, variable values may be accessed either by `pe.value(model.myvar)` or `model.myvar.value`."
   ]
  },
  {
   "cell_type": "code",
   "execution_count": null,
   "metadata": {},
   "outputs": [],
   "source": [
    "for i in model.N:\n",
    "    print(pe.value(model.x[i]))\n",
    "print(pe.value(model.obj))"
   ]
  }
 ],
 "metadata": {
  "kernelspec": {
   "display_name": "Python 3.10.4 ('3104')",
   "language": "python",
   "name": "python3"
  },
  "language_info": {
   "codemirror_mode": {
    "name": "ipython",
    "version": 3
   },
   "file_extension": ".py",
   "mimetype": "text/x-python",
   "name": "python",
   "nbconvert_exporter": "python",
   "pygments_lexer": "ipython3",
   "version": "3.10.4"
  },
  "vscode": {
   "interpreter": {
    "hash": "2fccfef6de30eb59767b31244f817a0196d64b5e43793416edf849b4402a2f8d"
   }
  }
 },
 "nbformat": 4,
 "nbformat_minor": 4
}
